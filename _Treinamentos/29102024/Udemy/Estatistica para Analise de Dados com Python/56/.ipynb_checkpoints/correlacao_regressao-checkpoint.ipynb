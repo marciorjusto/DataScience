{
 "cells": [
  {
   "cell_type": "markdown",
   "id": "0a51ceb8-e313-4256-8d57-b08caf9aa542",
   "metadata": {},
   "source": [
    "# CORRELAÇÃO"
   ]
  },
  {
   "cell_type": "code",
   "execution_count": null,
   "id": "42cb0bd0-2437-4419-9148-c0f74fc456ce",
   "metadata": {},
   "outputs": [],
   "source": [
    "import numpy as np\n",
    "import pandas as pd\n",
    "\n",
    "l_path = \"C:\\\\git\\\\RHE.Developers\\\\marcio-justo\\\\_Treinamentos\\\\15052024\\\\Udemy\\\\Estatistica para Analise de Dados com Python\\\\25\"\n",
    "\n",
    "enem_sp = pd.read_csv(l_path + \"\\\\enem_2019_tratado.csv\", sep=',', encoding='iso-8859-1')\n",
    "enem_sp.head()"
   ]
  },
  {
   "cell_type": "code",
   "execution_count": null,
   "id": "af3b22af-e2c2-438a-9a3f-610c6e06b743",
   "metadata": {},
   "outputs": [],
   "source": [
    "colegiox= enem_sp.loc[enem_sp.CO_ESCOLA == 35017632.0]"
   ]
  },
  {
   "cell_type": "code",
   "execution_count": null,
   "id": "96e4eaa8-7f30-4a28-b63a-2af95a555550",
   "metadata": {},
   "outputs": [],
   "source": [
    "colegiox.shape"
   ]
  },
  {
   "cell_type": "code",
   "execution_count": null,
   "id": "d91593c3-b08b-4914-abb2-e1de33036b54",
   "metadata": {},
   "outputs": [],
   "source": [
    "# Lista com nota final\n",
    "nota_final = ['NOTA_CN', 'NOTA_CH', 'NOTA_MT', 'NOTA_LC', 'NOTA_REDACAO']"
   ]
  },
  {
   "cell_type": "code",
   "execution_count": null,
   "id": "0567d9a4-7b2c-4956-980d-076fa546d56d",
   "metadata": {},
   "outputs": [],
   "source": [
    "colegiox['nota_final'] = (colegiox[nota_final].mean(axis=1))"
   ]
  },
  {
   "cell_type": "code",
   "execution_count": null,
   "id": "d2ac113c-fbf9-4f80-9692-175cb490f28a",
   "metadata": {},
   "outputs": [],
   "source": [
    "colegiox.head()"
   ]
  },
  {
   "cell_type": "code",
   "execution_count": null,
   "id": "b4ea65ce-1223-4baf-a38f-f1435724223e",
   "metadata": {},
   "outputs": [],
   "source": [
    "notas_colegiox = colegiox[['NOTA_CN', 'NOTA_CH', 'NOTA_MT', 'NOTA_LC', 'NOTA_REDACAO','nota_final']]"
   ]
  },
  {
   "cell_type": "code",
   "execution_count": null,
   "id": "7313681e-9b39-4eb4-9370-fcfa7a95b8ac",
   "metadata": {},
   "outputs": [],
   "source": [
    "notas_colegiox"
   ]
  },
  {
   "cell_type": "markdown",
   "id": "534812be-a4f4-4f7b-91b2-cffb35095518",
   "metadata": {},
   "source": [
    "# Gráfico Correlação"
   ]
  },
  {
   "cell_type": "code",
   "execution_count": null,
   "id": "01235e44-8f9a-4b7e-9ab4-bfdb9799d790",
   "metadata": {},
   "outputs": [],
   "source": [
    "import seaborn as sns"
   ]
  },
  {
   "cell_type": "code",
   "execution_count": null,
   "id": "ae2e53a1-97bb-4ed6-89bc-c8a4685b4dd6",
   "metadata": {},
   "outputs": [],
   "source": [
    "sns.pairplot(notas_colegiox)"
   ]
  },
  {
   "cell_type": "code",
   "execution_count": null,
   "id": "de809574-857b-4e2a-b8ba-4ce56acff585",
   "metadata": {},
   "outputs": [],
   "source": [
    "import matplotlib.pyplot as plt"
   ]
  },
  {
   "cell_type": "code",
   "execution_count": null,
   "id": "729f941c-8925-45f1-948b-1e6335a94877",
   "metadata": {},
   "outputs": [],
   "source": [
    "# Gráfico de dispersão entre Nota de Redação e Nota final (média)\n",
    "plt.scatter(notas_colegiox.NOTA_REDACAO, notas_colegiox.nota_final)\n",
    "plt.title('Correlação')\n",
    "plt.xlabel('Nota Redação')\n",
    "plt.ylabel('Nota final')\n",
    "plt.grid(True)\n",
    "plt.show()\n"
   ]
  },
  {
   "cell_type": "code",
   "execution_count": null,
   "id": "37aefa40-a1c5-480d-abe1-161090d83dc2",
   "metadata": {},
   "outputs": [],
   "source": [
    "# Correlação método Pearson\n",
    "# Correlações negativas nem é recomendado olhar ...\n",
    "correlacoes = notas_colegiox.corr(method='pearson')\n",
    "\n",
    "# Correlação método Spearman - dados não paramétricos\n",
    "# correlacoes = notas_colegiox.corr(method='spearman')\n",
    "\n",
    "# Correlação método Kendall - Não se aplica neste caso porque tem mais de 30 amostras - poucos com quase 50%\n",
    "# correlacoes = notas_colegiox.corr(method='kendall')\n",
    "correlacoes"
   ]
  },
  {
   "cell_type": "code",
   "execution_count": null,
   "id": "416fdf7b-16d1-4d4a-aecb-c826dd3279d1",
   "metadata": {},
   "outputs": [],
   "source": [
    "plt.figure()\n",
    "# annot - Anotar os números ou não\n",
    "# Diagonal com diagonal tem correlação perfeita pq é entre elas mesmas ...\n",
    "sns.heatmap(correlacoes, annot=True)"
   ]
  },
  {
   "cell_type": "markdown",
   "id": "7f613adb-565d-4241-86ce-cbe74d61adb8",
   "metadata": {},
   "source": [
    "# Análise da Normalidade"
   ]
  },
  {
   "cell_type": "markdown",
   "id": "587a7664-e878-477c-bb31-bcfa90cea829",
   "metadata": {},
   "source": [
    "## Teste Shapiro-Wilk"
   ]
  },
  {
   "cell_type": "markdown",
   "id": "7935e3c7-776d-42c4-80eb-812264125124",
   "metadata": {},
   "source": [
    "Ho = distribuição normal: p > 0.05\n",
    "Ha = distribuição != normal: p <= 0.05"
   ]
  },
  {
   "cell_type": "code",
   "execution_count": null,
   "id": "a11ec8bf-7689-44c3-8a97-2dbcf61c1029",
   "metadata": {},
   "outputs": [],
   "source": [
    "import scipy.stats as stats"
   ]
  },
  {
   "cell_type": "code",
   "execution_count": null,
   "id": "e6f27872-5a7d-4722-9cd3-c9ce567ede95",
   "metadata": {},
   "outputs": [],
   "source": [
    "# Nota de redação\n",
    "stats.shapiro(notas_colegiox.NOTA_REDACAO)"
   ]
  },
  {
   "cell_type": "code",
   "execution_count": null,
   "id": "674e34fd-af1e-401e-9a76-5e995a6fc8b7",
   "metadata": {},
   "outputs": [],
   "source": [
    "# Nota final\n",
    "stats.shapiro(notas_colegiox.nota_final)"
   ]
  },
  {
   "cell_type": "code",
   "execution_count": null,
   "id": "620a1fcd-250c-4200-8c9a-f9c3b2cf52db",
   "metadata": {},
   "outputs": [],
   "source": [
    "# Nota de Matemática\n",
    "stats.shapiro(notas_colegiox.NOTA_MT)"
   ]
  },
  {
   "cell_type": "code",
   "execution_count": null,
   "id": "8fc0d7d0-c149-4c2b-91c6-ad5094e855eb",
   "metadata": {},
   "outputs": [],
   "source": [
    "# Nota de Ciências da Natureza\n",
    "stats.shapiro(notas_colegiox.NOTA_CN)"
   ]
  },
  {
   "cell_type": "code",
   "execution_count": null,
   "id": "1ad12e40-cd01-4262-95ac-22e155f95e58",
   "metadata": {},
   "outputs": [],
   "source": [
    "# Nota de Linguagens e Códigos\n",
    "stats.shapiro(notas_colegiox.NOTA_LC)"
   ]
  },
  {
   "cell_type": "code",
   "execution_count": null,
   "id": "4cab935e-e210-43c9-b40c-f90c09ba46d3",
   "metadata": {},
   "outputs": [],
   "source": [
    "# Nota de Ciências Humanas\n",
    "stats.shapiro(notas_colegiox.NOTA_CH)"
   ]
  },
  {
   "cell_type": "code",
   "execution_count": null,
   "id": "8eaa5ff1-1de6-4268-a93d-10c3c0db6a8e",
   "metadata": {},
   "outputs": [],
   "source": [
    "# Adequado usar correlação de Pearson - Distribuição Normal\n",
    "stats.probplot(notas_colegiox['NOTA_REDACAO'], dist=\"norm\", plot=plt)\n",
    "plt.title(\"Normal Q-Q plot\")\n",
    "plt.show()"
   ]
  },
  {
   "cell_type": "code",
   "execution_count": null,
   "id": "b840154a-f37a-4319-a5c6-70aaa6ef4688",
   "metadata": {},
   "outputs": [],
   "source": [
    "# Adequado usar correlação de Spearman, já que a Distribuição não é Normal\n",
    "# Não usa Kendall porque tem mais de 30 amostras\n",
    "stats.probplot(notas_colegiox['NOTA_CH'], dist=\"norm\", plot=plt)\n",
    "plt.title(\"Normal Q-Q plot\")\n",
    "plt.show()"
   ]
  },
  {
   "cell_type": "code",
   "execution_count": null,
   "id": "65b23a78-7aab-44f0-89a1-08acb085ba09",
   "metadata": {},
   "outputs": [],
   "source": [
    "# Correlação método Spearman - dados não paramétricos\n",
    "correlacoes = notas_colegiox.corr(method='spearman')\n",
    "correlacoes"
   ]
  },
  {
   "cell_type": "markdown",
   "id": "e17d3364-c559-4632-a71c-a152dc3f26b4",
   "metadata": {},
   "source": [
    "## Análise dos Outliers"
   ]
  },
  {
   "cell_type": "code",
   "execution_count": null,
   "id": "6a99cc9f-9900-4a97-82c7-b1812e16bb24",
   "metadata": {},
   "outputs": [],
   "source": [
    "import plotly.express as px"
   ]
  },
  {
   "cell_type": "code",
   "execution_count": null,
   "id": "42f5acbf-572c-4e26-be5a-613d6e4629a5",
   "metadata": {},
   "outputs": [],
   "source": [
    "grafico = px.box(notas_colegiox, y='NOTA_REDACAO')\n",
    "grafico.show()"
   ]
  },
  {
   "cell_type": "code",
   "execution_count": null,
   "id": "8af61a4e-cf13-4259-82f1-05b8918678e1",
   "metadata": {},
   "outputs": [],
   "source": [
    "grafico = px.box(notas_colegiox, y='NOTA_MT')\n",
    "grafico.show()"
   ]
  },
  {
   "cell_type": "code",
   "execution_count": null,
   "id": "38a4c1f6-32cd-4432-a608-e4696c8ca695",
   "metadata": {},
   "outputs": [],
   "source": [
    "grafico = px.box(notas_colegiox, y='NOTA_CN')\n",
    "grafico.show()"
   ]
  },
  {
   "cell_type": "code",
   "execution_count": null,
   "id": "2d2ffa01-b349-44c6-a8cd-e0bb6244d4dd",
   "metadata": {},
   "outputs": [],
   "source": [
    "grafico = px.box(notas_colegiox, y='NOTA_CH')\n",
    "grafico.show()"
   ]
  },
  {
   "cell_type": "code",
   "execution_count": null,
   "id": "3c00b0bf-ddac-4d32-871a-ba07fdaa35ec",
   "metadata": {},
   "outputs": [],
   "source": [
    "grafico = px.box(notas_colegiox, y='NOTA_LC')\n",
    "grafico.show()"
   ]
  },
  {
   "cell_type": "code",
   "execution_count": null,
   "id": "ef05cbec-0edf-44a2-ba8a-0737059c8dd2",
   "metadata": {},
   "outputs": [],
   "source": [
    "grafico = px.box(notas_colegiox, y='nota_final')\n",
    "grafico.show()"
   ]
  },
  {
   "cell_type": "markdown",
   "id": "6dee1dde-7cb1-41b8-99c0-204ad5da7124",
   "metadata": {},
   "source": [
    "# REGRESSÃO"
   ]
  },
  {
   "cell_type": "markdown",
   "id": "977dfb39-299b-4fe2-bf82-4cd9a5c5fec6",
   "metadata": {},
   "source": [
    "## Regressão Linear com StatsModels"
   ]
  },
  {
   "cell_type": "code",
   "execution_count": null,
   "id": "e47d299e-51cb-4d33-a5c7-8cb30e47e00c",
   "metadata": {},
   "outputs": [],
   "source": [
    "# Sempre antes de fazer a análise de regressão, é preciso fazer a análise de correlação entre as grandezas\n",
    "# para ver se vale a pena fazer a regressão e escolher qual o tipo de regressão\n",
    "import statsmodels.formula.api as smf\n",
    "import statsmodels.stats.api as sms"
   ]
  },
  {
   "cell_type": "code",
   "execution_count": null,
   "id": "6ac16329-0f81-4b2a-aabf-95510d571f61",
   "metadata": {},
   "outputs": [],
   "source": [
    "import sklearn"
   ]
  }
 ],
 "metadata": {
  "kernelspec": {
   "display_name": "Python 3 (ipykernel)",
   "language": "python",
   "name": "python3"
  },
  "language_info": {
   "codemirror_mode": {
    "name": "ipython",
    "version": 3
   },
   "file_extension": ".py",
   "mimetype": "text/x-python",
   "name": "python",
   "nbconvert_exporter": "python",
   "pygments_lexer": "ipython3",
   "version": "3.11.7"
  }
 },
 "nbformat": 4,
 "nbformat_minor": 5
}
