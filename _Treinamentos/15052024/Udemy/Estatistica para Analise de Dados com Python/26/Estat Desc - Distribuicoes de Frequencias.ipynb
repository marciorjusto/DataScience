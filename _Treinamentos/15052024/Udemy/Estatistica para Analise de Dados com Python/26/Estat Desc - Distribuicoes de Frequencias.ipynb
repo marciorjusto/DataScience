{
 "cells": [
  {
   "cell_type": "code",
   "execution_count": null,
   "id": "0493f639-265d-453a-9cf2-d57b8e4d48f7",
   "metadata": {},
   "outputs": [],
   "source": [
    "# 22/05/2024\n",
    "# Estatística Descritiva - Distribuições de Frequências"
   ]
  },
  {
   "cell_type": "markdown",
   "id": "e939130f-4fbe-4eff-9e99-c2f46045e198",
   "metadata": {},
   "source": [
    "# DISTRIBUIÇÃO DE FREQUÊNCIAS"
   ]
  },
  {
   "cell_type": "code",
   "execution_count": null,
   "id": "017108dc-8133-4ea5-a673-a9cbb8e75016",
   "metadata": {},
   "outputs": [],
   "source": [
    "import numpy as np\n",
    "import pandas as pd\n",
    "from collections import Counter \n",
    "# Biblioteca Counter para fazer estudo da frequência absoluta"
   ]
  },
  {
   "cell_type": "code",
   "execution_count": null,
   "id": "c994553f-7c92-42a2-a88b-fe35194fdd73",
   "metadata": {},
   "outputs": [],
   "source": [
    "l_path = \"C:\\\\git\\\\RHE.Developers\\\\marcio-justo\\\\_Treinamentos\\\\15052024\\\\Udemy\\\\Estatistica para Analise de Dados com Python\\\\25\"\n",
    "\n",
    "enem_sp = pd.read_csv(l_path + \"\\\\enem_2019_tratado.csv\", sep=',', encoding='iso-8859-1')\n",
    "enem_sp.head()"
   ]
  },
  {
   "cell_type": "code",
   "execution_count": null,
   "id": "f7b18a9a-3ddb-43b9-9a28-34d4d3260577",
   "metadata": {},
   "outputs": [],
   "source": [
    "enem_sorocaba = enem_sp.loc[enem_sp.NO_MUNICIPIO_RESIDENCIA == 'Sorocaba']"
   ]
  },
  {
   "cell_type": "code",
   "execution_count": null,
   "id": "69732baa-ab23-4c8b-98ad-2f94a62e1e68",
   "metadata": {},
   "outputs": [],
   "source": [
    "enem_sorocaba.head()"
   ]
  },
  {
   "cell_type": "code",
   "execution_count": null,
   "id": "7a21e128-9db9-415f-aaf0-b4faa0462282",
   "metadata": {},
   "outputs": [],
   "source": [
    "enem_sorocaba.shape"
   ]
  },
  {
   "cell_type": "code",
   "execution_count": null,
   "id": "d5ac8205-6146-4d2f-8d85-a1fc22fd4305",
   "metadata": {},
   "outputs": [],
   "source": [
    "idades = enem_sorocaba['IDADE']"
   ]
  },
  {
   "cell_type": "code",
   "execution_count": null,
   "id": "b8e40107-da22-4ebb-8a5c-f6e0f9ebf2b9",
   "metadata": {},
   "outputs": [],
   "source": [
    "idades"
   ]
  },
  {
   "cell_type": "code",
   "execution_count": null,
   "id": "44f09591-2b7d-4960-83df-e376ab46e2f6",
   "metadata": {},
   "outputs": [],
   "source": [
    "freq_absoluta = Counter(idades)\n",
    "freq_absoluta"
   ]
  },
  {
   "cell_type": "code",
   "execution_count": null,
   "id": "0a102399-1573-4996-a3df-dea838f870d6",
   "metadata": {},
   "outputs": [],
   "source": [
    "freq_absoluta = pd.DataFrame.from_dict(freq_absoluta, orient='index')\n",
    "freq_absoluta"
   ]
  },
  {
   "cell_type": "code",
   "execution_count": null,
   "id": "127b0cf3-95d8-40ce-8df5-5be5eaa1d41b",
   "metadata": {},
   "outputs": [],
   "source": [
    "freq_absoluta = freq_absoluta.sort_index(ascending=True)\n",
    "freq_absoluta"
   ]
  },
  {
   "cell_type": "code",
   "execution_count": null,
   "id": "324e39bc-76fa-4b9c-856b-cc3319c4b89a",
   "metadata": {},
   "outputs": [],
   "source": [
    "freq_relativa = freq_absoluta / freq_absoluta.sum()\n",
    "freq_relativa"
   ]
  },
  {
   "cell_type": "code",
   "execution_count": null,
   "id": "5a789c58-7724-42f1-b1eb-188da394894f",
   "metadata": {},
   "outputs": [],
   "source": [
    "freq_relativa_perc = freq_relativa * 100\n",
    "freq_relativa_perc"
   ]
  },
  {
   "cell_type": "markdown",
   "id": "4be2adea-b4b1-4165-80ec-335eba8b8127",
   "metadata": {},
   "source": [
    "# Histograma"
   ]
  },
  {
   "cell_type": "markdown",
   "id": "c4718de7-0f3d-4326-add3-035cf3262866",
   "metadata": {},
   "source": [
    "#### Matplotlib"
   ]
  },
  {
   "cell_type": "code",
   "execution_count": null,
   "id": "6628ac92-c1d9-4995-ace0-bbec2e3e4015",
   "metadata": {},
   "outputs": [],
   "source": [
    "import matplotlib.pyplot as plt"
   ]
  },
  {
   "cell_type": "markdown",
   "id": "42e8c0a0-02b3-4f2c-94b2-e9e605089263",
   "metadata": {},
   "source": [
    "### Forma 1"
   ]
  },
  {
   "cell_type": "code",
   "execution_count": null,
   "id": "b5b72cd4-c591-4365-acf1-63a5f0e4a44b",
   "metadata": {},
   "outputs": [],
   "source": [
    "enem_sorocaba.IDADE.hist(bins=8) # bins = Colunas (faixas de valores) usadas para a distribuição\n",
    "plt.title('Distribuição de Idades - Enem SP 2019')\n",
    "plt.show()"
   ]
  },
  {
   "cell_type": "markdown",
   "id": "8be13af6-826d-449b-af0d-e44345734dc8",
   "metadata": {},
   "source": [
    "### Forma 2"
   ]
  },
  {
   "cell_type": "code",
   "execution_count": null,
   "id": "c91baeb3-517b-4bad-99a4-b27008ad72be",
   "metadata": {},
   "outputs": [],
   "source": [
    "plt.hist(enem_sorocaba.IDADE, 8, rwidth=1) # rwidth = espaçamento entre as colunas. Aqui é uma contagem\n",
    "plt.title('Distribuição de Idades - Enem SP 2019')\n",
    "plt.show()"
   ]
  },
  {
   "cell_type": "code",
   "execution_count": null,
   "id": "cb059bbf-f85d-4271-a425-e6b14e6427bf",
   "metadata": {},
   "outputs": [],
   "source": [
    "from matplotlib import colors\n",
    "plt.hist(enem_sorocaba.IDADE, 20, rwidth=1, color='red', density=True) # Aqui o eixo Y é uma frequência. density=True é o mesmo que frequência relativa\n",
    "plt.title('Distribuição de Idades - Enem SP 2019 - Sorocaba')\n",
    "plt.xlabel('Idade')\n",
    "plt.ylabel('Frequência')\n",
    "plt.show()"
   ]
  },
  {
   "cell_type": "markdown",
   "id": "c27f5e7a-4c64-43e7-8078-47b448ea121f",
   "metadata": {},
   "source": [
    "#### Seaborn"
   ]
  },
  {
   "cell_type": "code",
   "execution_count": null,
   "id": "0fc9e6bb-744f-41fc-9eb8-b0450d9df441",
   "metadata": {},
   "outputs": [],
   "source": [
    "# Evolução do Matplotlib"
   ]
  },
  {
   "cell_type": "code",
   "execution_count": null,
   "id": "f0591dd6-577c-4bde-906d-6b9bae12d14d",
   "metadata": {},
   "outputs": [],
   "source": [
    "import seaborn as sns"
   ]
  },
  {
   "cell_type": "code",
   "execution_count": null,
   "id": "a612206a-05c7-466b-a514-fb55d861b9fc",
   "metadata": {},
   "outputs": [],
   "source": [
    "sns.displot(enem_sorocaba['IDADE'], bins=8, color='brown', kde=False);"
   ]
  },
  {
   "cell_type": "code",
   "execution_count": null,
   "id": "02693638-ec0d-44ff-98c4-160995cfce2b",
   "metadata": {},
   "outputs": [],
   "source": [
    "import warnings\n",
    "warnings.filterwarnings(\"ignore\", category=FutureWarning)"
   ]
  },
  {
   "cell_type": "code",
   "execution_count": null,
   "id": "ce2fc4e6-642e-4962-995b-bd8aac5e17d5",
   "metadata": {},
   "outputs": [],
   "source": [
    "# Outro comando onde não aparecem warnings\n",
    "sns.histplot(enem_sorocaba['IDADE'], bins=8, color=\"red\")"
   ]
  },
  {
   "cell_type": "code",
   "execution_count": null,
   "id": "ca97828b-4450-44c9-b958-c15edbfd467f",
   "metadata": {},
   "outputs": [],
   "source": [
    "sns.histplot(enem_sorocaba, x='IDADE', bins=8, color=\"orange\", kde=False, stat=\"probability\"); \n",
    "# Ao colocar ponto-e-vírgula no final, não exibe as mensagens entre <>\n",
    "# kde=True: Coloca uma linha de densidade/distribuição/freq. relativa que acompanha o histograma\n",
    "# stat=\"{count, frequency, density, probability}\" = probability pode ser frequencia relativa percentual"
   ]
  },
  {
   "cell_type": "markdown",
   "id": "49547d6e-63a3-426d-b8b3-6ef92dc43bce",
   "metadata": {},
   "source": [
    "#### Plotly"
   ]
  },
  {
   "cell_type": "code",
   "execution_count": null,
   "id": "c135847e-4258-475b-a208-23cc270f73e3",
   "metadata": {},
   "outputs": [],
   "source": [
    "# Gráficos interativos\n",
    "import plotly.express as px\n",
    "grafico = px.histogram(enem_sorocaba, x=\"IDADE\", nbins=10, histnorm=\"percent\") # histnorm equivale ao stat do Seaborn - count, percent, density ou probability\n",
    "grafico.update_layout(width=500, height=500, title_text='Distribuição de idades - Enem SP 2019 - Sorocaba')\n",
    "grafico.show()"
   ]
  },
  {
   "cell_type": "code",
   "execution_count": null,
   "id": "06f1a411-7e86-45a9-a6e1-665481de5cd9",
   "metadata": {},
   "outputs": [],
   "source": [
    "grafico = px.histogram(enem_sorocaba, x=\"IDADE\", nbins=10, histnorm=\"percent\", color='SEXO') # \n",
    "grafico.update_layout(width=500, height=500, title_text='Distribuição de idades por sexo - Enem SP 2019 - Sorocaba', title_font_color = 'red')\n",
    "grafico.show()"
   ]
  },
  {
   "cell_type": "code",
   "execution_count": null,
   "id": "a2349a7f-3b04-4c8a-9bc9-8da37ce54cd3",
   "metadata": {},
   "outputs": [],
   "source": [
    "grafico = px.histogram(enem_sorocaba, x=\"NOTA_MT\", nbins=20, color=\"SEXO\")\n",
    "grafico.update_layout(width=500, height=500, title_text='Notas de Matemática por sexo - Enem SP 2019')\n",
    "grafico.show()"
   ]
  },
  {
   "cell_type": "code",
   "execution_count": null,
   "id": "064a271f-eed4-426b-8f74-771d6f2dcd37",
   "metadata": {},
   "outputs": [],
   "source": [
    "grafico = px.histogram(enem_sorocaba, x=\"NOTA_CN\", nbins=20, color=\"SEXO\")\n",
    "grafico.update_layout(width=500, height=500, title_text='Notas de Ciências Naturais por sexo - Enem SP 2019')\n",
    "grafico.show()"
   ]
  },
  {
   "cell_type": "code",
   "execution_count": null,
   "id": "89404a3d-7b68-462c-83ea-f90e27105e62",
   "metadata": {},
   "outputs": [],
   "source": [
    "grafico = px.histogram(enem_sorocaba, x=\"NOTA_LC\", nbins=20, color=\"SEXO\", histnorm='probability') # não é um gráfico de probabilidade, o parâmetro é decimal!!!!\n",
    "grafico.update_layout(width=500, height=500, title_text='Notas de Linguagens e Códigos por sexo - Enem SP 2019')\n",
    "grafico.show()"
   ]
  },
  {
   "cell_type": "code",
   "execution_count": null,
   "id": "359408d1-778e-4e66-a047-a8df91a98c0b",
   "metadata": {},
   "outputs": [],
   "source": [
    "grafico = px.histogram(enem_sorocaba, x=\"NOTA_CH\", nbins=20, color=\"SEXO\")\n",
    "grafico.update_layout(width=500, height=500, title_text='Notas de Ciências Humanas por sexo - Enem SP 2019')\n",
    "grafico.show()"
   ]
  },
  {
   "cell_type": "code",
   "execution_count": null,
   "id": "39b3cf95-f045-41c8-acd2-a0a9375ea5fb",
   "metadata": {},
   "outputs": [],
   "source": [
    "grafico = px.histogram(enem_sorocaba, x=\"NOTA_REDACAO\", nbins=20, color=\"SEXO\", histnorm='probability')\n",
    "grafico.update_layout(width=500, height=500, title_text='Notas de Redação por sexo - Enem SP 2019')\n",
    "grafico.show()"
   ]
  },
  {
   "cell_type": "code",
   "execution_count": null,
   "id": "8030cd5d-6691-4ea8-8f1f-4279ea44653e",
   "metadata": {},
   "outputs": [],
   "source": [
    "grafico = px.histogram(enem_sorocaba, x=\"NOTA_REDACAO\", nbins=20, color=\"RACA\", histnorm='percent')\n",
    "grafico.update_layout(width=800, height=800, title_text='Notas de Redação por raça - Enem SP 2019')\n",
    "grafico.show()"
   ]
  },
  {
   "cell_type": "code",
   "execution_count": null,
   "id": "8b8639df-5819-4b51-a48f-6aef79107ca6",
   "metadata": {},
   "outputs": [],
   "source": []
  }
 ],
 "metadata": {
  "kernelspec": {
   "display_name": "Python 3 (ipykernel)",
   "language": "python",
   "name": "python3"
  },
  "language_info": {
   "codemirror_mode": {
    "name": "ipython",
    "version": 3
   },
   "file_extension": ".py",
   "mimetype": "text/x-python",
   "name": "python",
   "nbconvert_exporter": "python",
   "pygments_lexer": "ipython3",
   "version": "3.11.7"
  }
 },
 "nbformat": 4,
 "nbformat_minor": 5
}
