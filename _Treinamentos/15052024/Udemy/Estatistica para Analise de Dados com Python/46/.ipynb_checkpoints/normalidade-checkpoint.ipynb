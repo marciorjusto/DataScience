{
 "cells": [
  {
   "cell_type": "markdown",
   "id": "0a51ceb8-e313-4256-8d57-b08caf9aa542",
   "metadata": {},
   "source": [
    "# Testes de Normalidade"
   ]
  },
  {
   "cell_type": "markdown",
   "id": "8c92c36d-fd58-4789-8362-ec510bf737fe",
   "metadata": {},
   "source": [
    "Vários métodos de estimação e testes de hipóteses foram criados sob a suposição de que a amostra aleatória tenha distribuição normal.\n",
    "\n",
    "Distribuição Normal será usada em Estatística Inferencial e Machine Learning."
   ]
  },
  {
   "cell_type": "code",
   "execution_count": null,
   "id": "42cb0bd0-2437-4419-9148-c0f74fc456ce",
   "metadata": {},
   "outputs": [],
   "source": [
    "import numpy as np\n",
    "import pandas as pd\n",
    "\n",
    "l_path = \"C:\\\\git\\\\RHE.Developers\\\\marcio-justo\\\\_Treinamentos\\\\15052024\\\\Udemy\\\\Estatistica para Analise de Dados com Python\\\\25\"\n",
    "\n",
    "enem_sp = pd.read_csv(l_path + \"\\\\enem_2019_tratado.csv\", sep=',', encoding='iso-8859-1')\n",
    "enem_sp.head()"
   ]
  },
  {
   "cell_type": "code",
   "execution_count": null,
   "id": "71697750-795d-4372-9a95-f245ffcacf35",
   "metadata": {},
   "outputs": [],
   "source": [
    "enem_tupa = enem_sp.loc[enem_sp.NO_MUNICIPIO_RESIDENCIA == 'Tupã']"
   ]
  },
  {
   "cell_type": "code",
   "execution_count": null,
   "id": "eaab1aad-a054-4777-9a89-b89122864b03",
   "metadata": {},
   "outputs": [],
   "source": [
    "enem_tupa.shape"
   ]
  },
  {
   "cell_type": "code",
   "execution_count": null,
   "id": "0ba1c7a7-6b8b-4a3e-a0e6-1b228e6ad7a9",
   "metadata": {},
   "outputs": [],
   "source": [
    "enem_tupa.head()"
   ]
  },
  {
   "cell_type": "markdown",
   "id": "2568da50-c464-473b-9725-53b5c872067e",
   "metadata": {},
   "source": [
    "### TESTES DE NORMALIDADE"
   ]
  },
  {
   "cell_type": "markdown",
   "id": "8af1c3d2-b88f-42fb-861d-57ec697e0176",
   "metadata": {},
   "source": [
    "Existem testes de normalidade numéricos e testes gráficos:\n",
    "- Shapiro-Wilk (limite de 5000 amostras)\n",
    "- Kolmogorov_Smirnov\n",
    "- Histograma\n",
    "- QQPlot "
   ]
  },
  {
   "cell_type": "markdown",
   "id": "d3edaac0-50b7-404e-ad03-c586302ade24",
   "metadata": {},
   "source": [
    "#### Histograma"
   ]
  },
  {
   "cell_type": "code",
   "execution_count": null,
   "id": "e0035cde-0e92-4b4a-bb07-f80a4bd6170d",
   "metadata": {},
   "outputs": [],
   "source": [
    "import plotly.express as px\n",
    "grafico = px.histogram(enem_sp, x='NOTA_REDACAO', nbins=32, histnorm='percent',)\n",
    "grafico.update_layout(width=400, height=400, title_text='Distribuição de notas de Redação - SP')\n",
    "grafico.show()"
   ]
  },
  {
   "cell_type": "markdown",
   "id": "752e2921-6e0e-4868-b8a6-38bd4d505d17",
   "metadata": {},
   "source": [
    "Histograma só dá uma \"sensação\" de distribuição normal, não deixa certeza para quem olha"
   ]
  },
  {
   "cell_type": "code",
   "execution_count": null,
   "id": "1f4a2a5c-be6a-4547-b76b-0802e0d7b329",
   "metadata": {},
   "outputs": [],
   "source": [
    "import plotly.express as px\n",
    "grafico = px.histogram(enem_tupa, x='NOTA_REDACAO', nbins=32, histnorm='percent',)\n",
    "grafico.update_layout(width=400, height=400, title_text='Distribuição de notas de Redação - Tupã')\n",
    "grafico.show()"
   ]
  },
  {
   "cell_type": "code",
   "execution_count": null,
   "id": "e03f1911-99b3-45ad-a4c3-8fa3218bab66",
   "metadata": {},
   "outputs": [],
   "source": [
    "import seaborn as sns\n",
    "sns.histplot(enem_sp, x='NOTA_REDACAO', bins=32, color='orange', kde=True, stat='probability') # kde=true mostra a linha"
   ]
  },
  {
   "cell_type": "code",
   "execution_count": null,
   "id": "8870068c-2f97-44c6-9eb4-d9d5dfb7fd1e",
   "metadata": {},
   "outputs": [],
   "source": [
    "sns.histplot(enem_tupa, x='NOTA_REDACAO', bins=32, color='orange', kde=True, stat='probability') # kde=true mostra a linha"
   ]
  },
  {
   "cell_type": "markdown",
   "id": "e8e32d24-7870-40e5-a8b5-0920b180cc4b",
   "metadata": {},
   "source": [
    "#### QQPLOT - Quantil Quantil Plot"
   ]
  },
  {
   "cell_type": "code",
   "execution_count": null,
   "id": "f61551b2-1afa-4a06-b4cb-98c6ac3f9e15",
   "metadata": {},
   "outputs": [],
   "source": [
    "import scipy.stats as stats\n",
    "import matplotlib.pyplot as plt"
   ]
  },
  {
   "cell_type": "code",
   "execution_count": null,
   "id": "4b3e2444-befa-4a63-8dd7-347c2b68ed57",
   "metadata": {},
   "outputs": [],
   "source": [
    "stats.probplot(enem_sp['NOTA_REDACAO'], dist='norm', plot=plt)\n",
    "plt.title('Normal Q-Q plot - SP')\n",
    "plt.show()"
   ]
  },
  {
   "cell_type": "code",
   "execution_count": null,
   "id": "26d2dc49-5f28-46c1-ae99-89c83d5b17d8",
   "metadata": {},
   "outputs": [],
   "source": [
    "stats.probplot(enem_tupa['NOTA_REDACAO'], dist='norm', plot=plt)\n",
    "plt.title('Normal Q-Q plot - Nota Redacao - Tupã')\n",
    "plt.show()"
   ]
  },
  {
   "cell_type": "code",
   "execution_count": null,
   "id": "4ee4e0aa-4807-47d0-8fa4-b9745729826e",
   "metadata": {},
   "outputs": [],
   "source": [
    "stats.probplot(enem_tupa['IDADE'], dist='norm', plot=plt)\n",
    "plt.title('Normal Q-Q plot - Idade - Tupã')\n",
    "plt.show()"
   ]
  },
  {
   "cell_type": "markdown",
   "id": "7ed46170-1850-45fc-befb-8a9d5be89c89",
   "metadata": {},
   "source": [
    "Analisa dispersão sugerindo que a distribuição não é normal.\n",
    "Sempre fazer teste com resultado numérico."
   ]
  },
  {
   "cell_type": "markdown",
   "id": "9a6a3a52-4612-4791-8931-0110ac926eb9",
   "metadata": {},
   "source": [
    "#### Teste de Shapiro-Wilk"
   ]
  },
  {
   "cell_type": "code",
   "execution_count": null,
   "id": "0fd69c30-9510-4bfa-aebf-35885fc37e64",
   "metadata": {},
   "outputs": [],
   "source": [
    "CRITÉRIOS:"
   ]
  },
  {
   "cell_type": "code",
   "execution_count": null,
   "id": "2a0c7ea4-b064-469d-a405-1b1991036789",
   "metadata": {},
   "outputs": [],
   "source": [
    "- Nível de significância de 0,05 ou 5% (mais utilizado)\n",
    "- Quando p > 0,05 (é distribuição normal). p é nível de significância (?)"
   ]
  },
  {
   "cell_type": "code",
   "execution_count": null,
   "id": "8324b3bd-5b4d-4229-af1c-cd28da9c3c11",
   "metadata": {},
   "outputs": [],
   "source": [
    "stats.shapiro(enem_sp.NOTA_REDACAO)"
   ]
  },
  {
   "cell_type": "markdown",
   "id": "27ff3ef1-c71f-411d-a7ce-46b4722965e4",
   "metadata": {},
   "source": [
    "O teste de Shapiro-Wilk não se aplica a dados maiores que 5000."
   ]
  },
  {
   "cell_type": "code",
   "execution_count": null,
   "id": "8bd3bdc1-6528-49e1-a637-0e24f88c3753",
   "metadata": {},
   "outputs": [],
   "source": [
    "stats.shapiro(enem_tupa.NOTA_REDACAO) # Resulta 0,000000000... um nro muito pequeno. Ou seja, a distribuição de Tupã não é normal"
   ]
  },
  {
   "cell_type": "markdown",
   "id": "757c6d34-24e2-4fd3-9ebe-158bfe54c3a2",
   "metadata": {},
   "source": [
    "#### Teste Lilliefors (Kolmogorov-Smirnov)"
   ]
  },
  {
   "cell_type": "code",
   "execution_count": null,
   "id": "a724f3c1-83f2-42ea-9b01-9903b7cd5c71",
   "metadata": {},
   "outputs": [],
   "source": [
    "# Teste numérico para verificação de distribuição normal para dados maiores que 5000\n",
    "import statsmodels\n",
    "from statsmodels.stats.diagnostic import lilliefors"
   ]
  },
  {
   "cell_type": "code",
   "execution_count": null,
   "id": "56375015-56bb-485c-ba89-8cd21886ebbf",
   "metadata": {},
   "outputs": [],
   "source": [
    "statsmodels.stats.diagnostic.lilliefors(enem_sp.NOTA_REDACAO, dist='norm') # 1o result: Estatística do teste (\"confiança\"?), 2o result: p-valor da Inferência"
   ]
  },
  {
   "cell_type": "code",
   "execution_count": null,
   "id": "d419776f-28cf-454b-a2f8-607a3105bfda",
   "metadata": {},
   "outputs": [],
   "source": [
    "# Teste Lilliefors (Kolmogorov-Smirnov)\n",
    "statsmodels.stats.diagnostic.lilliefors(enem_tupa.NOTA_REDACAO, dist='norm')"
   ]
  },
  {
   "cell_type": "markdown",
   "id": "596f5c63-fb62-4e9e-8b6a-2dde12658f44",
   "metadata": {},
   "source": [
    "O p-valor foi abaixo de 0,05, portanto ambas as distribuições não podem ser aproximadas a uma distribuição normal"
   ]
  }
 ],
 "metadata": {
  "kernelspec": {
   "display_name": "Python 3 (ipykernel)",
   "language": "python",
   "name": "python3"
  },
  "language_info": {
   "codemirror_mode": {
    "name": "ipython",
    "version": 3
   },
   "file_extension": ".py",
   "mimetype": "text/x-python",
   "name": "python",
   "nbconvert_exporter": "python",
   "pygments_lexer": "ipython3",
   "version": "3.11.7"
  }
 },
 "nbformat": 4,
 "nbformat_minor": 5
}
