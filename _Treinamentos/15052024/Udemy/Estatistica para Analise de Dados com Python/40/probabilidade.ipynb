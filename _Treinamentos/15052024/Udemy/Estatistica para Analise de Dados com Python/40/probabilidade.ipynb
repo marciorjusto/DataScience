{
 "cells": [
  {
   "cell_type": "markdown",
   "id": "0a51ceb8-e313-4256-8d57-b08caf9aa542",
   "metadata": {},
   "source": [
    "# Probabilidade"
   ]
  },
  {
   "cell_type": "code",
   "execution_count": null,
   "id": "42cb0bd0-2437-4419-9148-c0f74fc456ce",
   "metadata": {},
   "outputs": [],
   "source": [
    "import numpy as np\n",
    "import pandas as pd\n",
    "\n",
    "l_path = \"C:\\\\git\\\\RHE.Developers\\\\marcio-justo\\\\_Treinamentos\\\\15052024\\\\Udemy\\\\Estatistica para Analise de Dados com Python\\\\25\"\n",
    "\n",
    "enem_sp = pd.read_csv(l_path + \"\\\\enem_2019_tratado.csv\", sep=',', encoding='iso-8859-1')\n",
    "enem_sp.head()"
   ]
  },
  {
   "cell_type": "code",
   "execution_count": null,
   "id": "2535fc37-273b-4598-8e77-c28978a4a203",
   "metadata": {},
   "outputs": [],
   "source": [
    "enem_guarulhos = enem_sp.loc[enem_sp.NO_MUNICIPIO_RESIDENCIA == 'Guarulhos']\n",
    "enem_guarulhos.head()"
   ]
  },
  {
   "cell_type": "code",
   "execution_count": null,
   "id": "dbea94ef-3e42-43fe-9c25-c186eba71bcf",
   "metadata": {},
   "outputs": [],
   "source": [
    "enem_bauru = enem_sp.loc[enem_sp.NO_MUNICIPIO_RESIDENCIA == 'Bauru']\n",
    "enem_bauru.head()"
   ]
  },
  {
   "cell_type": "code",
   "execution_count": null,
   "id": "378cadf5-a5fc-4773-9cd7-763238d4c026",
   "metadata": {},
   "outputs": [],
   "source": [
    "enem_guarulhos.shape"
   ]
  },
  {
   "cell_type": "code",
   "execution_count": null,
   "id": "a8556dec-c564-47ba-a7be-76bc87a70efb",
   "metadata": {},
   "outputs": [],
   "source": [
    "len(enem_guarulhos)"
   ]
  },
  {
   "cell_type": "code",
   "execution_count": null,
   "id": "4bc46ca0-17a1-424f-891e-4d59792d8892",
   "metadata": {},
   "outputs": [],
   "source": [
    "len(enem_bauru)"
   ]
  },
  {
   "cell_type": "code",
   "execution_count": null,
   "id": "a72b7fe0-a48b-4c9f-beb4-2783afcb95e6",
   "metadata": {},
   "outputs": [],
   "source": [
    "len(enem_sp) # depois dos tratamentos e ajustes"
   ]
  },
  {
   "cell_type": "code",
   "execution_count": null,
   "id": "db550e9e-4506-4b0f-aef4-ac2cc8f1f066",
   "metadata": {},
   "outputs": [],
   "source": [
    "# CRIANDO FUNÇÃO PROBABILIDADE\n",
    "def probab (A, E):\n",
    "    # A - Nro de elementos de um grupo\n",
    "    # E - Nro de elementos do espaço amostral\n",
    "    # Probabilidade é A/E, mas em porcentagem multiplica por 100\n",
    "    resultado = (A/E)*100;\n",
    "    print('{:.2f}'.format(resultado)) # .2f indica 2 dígitos após vírgula"
   ]
  },
  {
   "cell_type": "code",
   "execution_count": null,
   "id": "9f2416e1-4c66-476c-b4fa-d0bcf5e5d226",
   "metadata": {},
   "outputs": [],
   "source": [
    "# PROBABILIDADE DE RETIRAR UM VESTIBULANDO DE GUARULHOS\n",
    "probab(len(enem_guarulhos), len(enem_sp))"
   ]
  },
  {
   "cell_type": "code",
   "execution_count": null,
   "id": "319c8658-d1b7-414b-a7ea-d0bc66e3f9a8",
   "metadata": {},
   "outputs": [],
   "source": [
    "# PROBABILIDADE DE RETIRAR UM VESTIBULANDO DE BAURU\n",
    "probab(len(enem_bauru), len(enem_sp))"
   ]
  },
  {
   "cell_type": "markdown",
   "id": "54c8b67e-7112-496a-8912-7dfad8798fdd",
   "metadata": {},
   "source": [
    "### Probabilidade de não ocorrer um evento"
   ]
  },
  {
   "cell_type": "code",
   "execution_count": null,
   "id": "af42ccad-59e4-455c-9909-8fd4d68daa98",
   "metadata": {},
   "outputs": [],
   "source": [
    "# CRIANDO FUNÇÃO PROBABILIDADE DE NÃO OCORRER UM EVENTO"
   ]
  },
  {
   "cell_type": "code",
   "execution_count": null,
   "id": "6f9e0b43-502a-4a86-bd46-d28e34669bbb",
   "metadata": {},
   "outputs": [],
   "source": [
    "def probab_nao (A,E):\n",
    "    resultado = (1 - (A/E))*100\n",
    "    print('{:.2f}'.format(resultado)) # .2f indica 2 dígitos após vírgula"
   ]
  },
  {
   "cell_type": "code",
   "execution_count": null,
   "id": "abda309e-7cfe-44d4-adb1-00bebf88ebab",
   "metadata": {},
   "outputs": [],
   "source": [
    "# PROBABILIDADE DE NÃO RETIRAR UM VESTIBULANDO DE GUARULHOS\n",
    "probab_nao(len(enem_guarulhos), len(enem_sp))"
   ]
  },
  {
   "cell_type": "code",
   "execution_count": null,
   "id": "36b11a57-a024-4d01-a6f7-2f96070a393c",
   "metadata": {},
   "outputs": [],
   "source": [
    "# PROBABILIDADE DE NÃO RETIRAR UM VESTIBULANDO DE GUARULHOS E NEM DE BAURU\n",
    "probab_nao(len(enem_guarulhos) + len(enem_bauru), len(enem_sp))"
   ]
  },
  {
   "cell_type": "markdown",
   "id": "5e877045-5ecf-4a2f-95c1-55a8586eebd3",
   "metadata": {},
   "source": [
    "### Probabilidade da União de dois eventos (AUB)"
   ]
  },
  {
   "cell_type": "code",
   "execution_count": null,
   "id": "a580c3cc-d7a1-496d-b68b-b8c863f41bf7",
   "metadata": {},
   "outputs": [],
   "source": [
    "def probab_uniao(A,B,E):\n",
    "    resultado = (A/E + B/E)*100 # Neste exemplo, a intersecção é nula, então o resultado é só a sma\n",
    "    print('{:.2f}'.format(resultado)) # .2f indica 2 dígitos após vírgulas"
   ]
  },
  {
   "cell_type": "code",
   "execution_count": null,
   "id": "800c2832-0be0-4e7b-a10d-3e90de9f0f5f",
   "metadata": {},
   "outputs": [],
   "source": [
    "probab_uniao(len(enem_guarulhos), len(enem_bauru), len(enem_sp))"
   ]
  },
  {
   "cell_type": "markdown",
   "id": "5c923fa0-c6a5-4b74-8712-cc600c2b8562",
   "metadata": {},
   "source": [
    "### Probabilidade da Interseccção de dois eventos"
   ]
  },
  {
   "cell_type": "code",
   "execution_count": null,
   "id": "dcf1f2a2-0d1e-46a7-997a-1998249ced8a",
   "metadata": {},
   "outputs": [],
   "source": [
    "# CRIANDO FUNÇÃO PROBABILIDADE DA INTERSECÇÃO DE DOIS EVENTOS\n",
    "def probab_inter(A,B,E):\n",
    "    resultado = (A/E * B/E)*100\n",
    "    print('{:.3f}'.format(resultado)) # .2f indica 2 dígitos após vírgulas    "
   ]
  },
  {
   "cell_type": "code",
   "execution_count": null,
   "id": "1c761461-b559-4265-a216-ef2ebd5bb6ec",
   "metadata": {},
   "outputs": [],
   "source": [
    "probab_inter(len(enem_guarulhos), len(enem_bauru), len(enem_sp))"
   ]
  },
  {
   "cell_type": "markdown",
   "id": "8cb32444-5210-4770-b299-f4e679132aa2",
   "metadata": {},
   "source": [
    "### Probabilidade Condicional"
   ]
  },
  {
   "cell_type": "code",
   "execution_count": null,
   "id": "eaf03af6-0298-43f3-8fc6-5d4230a300ee",
   "metadata": {},
   "outputs": [],
   "source": [
    "# CRIANDO FUNÇÃO PROBABILIDADE CONDICIONAL\n",
    "def probab_cond(AB, B):\n",
    "    resultado = (AB/B)*100\n",
    "    print('{:.3f}'.format(resultado)) # .2f indica 2 dígitos após vírgulas    "
   ]
  },
  {
   "cell_type": "code",
   "execution_count": null,
   "id": "01e4e367-e309-469b-91ac-30e3a1664f54",
   "metadata": {},
   "outputs": [],
   "source": [
    "# PROBABILIDADE DE RETIRAR UMA MULHER PARDA\n",
    "mulher = enem_sp.loc[enem_sp.SEXO == 'F'] # (n(B))"
   ]
  },
  {
   "cell_type": "code",
   "execution_count": null,
   "id": "5cda2ae0-16da-476b-a745-d9e8bb016a15",
   "metadata": {},
   "outputs": [],
   "source": [
    "mulher_parda = mulher.loc[mulher.RACA == 'parda'] # (n(A/\\B)) Probabilidade condicional de retirar uma mulher, sendo esta parda"
   ]
  },
  {
   "cell_type": "code",
   "execution_count": null,
   "id": "b3a26b1a-0503-4a9c-88e6-8b4c9cf5b514",
   "metadata": {},
   "outputs": [],
   "source": [
    "mulher_parda.head(20)"
   ]
  },
  {
   "cell_type": "code",
   "execution_count": null,
   "id": "0ff9c75f-2597-4189-bed8-87e046f77510",
   "metadata": {},
   "outputs": [],
   "source": [
    "probab_cond(len(mulher_parda), len(mulher))"
   ]
  },
  {
   "cell_type": "code",
   "execution_count": null,
   "id": "2c36eb7a-4850-427e-bf12-8b44dbc24a72",
   "metadata": {},
   "outputs": [],
   "source": []
  }
 ],
 "metadata": {
  "kernelspec": {
   "display_name": "Python 3 (ipykernel)",
   "language": "python",
   "name": "python3"
  },
  "language_info": {
   "codemirror_mode": {
    "name": "ipython",
    "version": 3
   },
   "file_extension": ".py",
   "mimetype": "text/x-python",
   "name": "python",
   "nbconvert_exporter": "python",
   "pygments_lexer": "ipython3",
   "version": "3.11.7"
  }
 },
 "nbformat": 4,
 "nbformat_minor": 5
}
