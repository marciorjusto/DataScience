{
 "cells": [
  {
   "cell_type": "markdown",
   "id": "0a51ceb8-e313-4256-8d57-b08caf9aa542",
   "metadata": {},
   "source": [
    "# Teste t para uma amostra"
   ]
  },
  {
   "cell_type": "code",
   "execution_count": null,
   "id": "42cb0bd0-2437-4419-9148-c0f74fc456ce",
   "metadata": {},
   "outputs": [],
   "source": [
    "# Teste t: Até 30 amostras, com desvio padrão desconhecido\n",
    "\n",
    "import numpy as np\n",
    "import pandas as pd\n",
    "\n",
    "l_path = \"C:\\\\git\\\\RHE.Developers\\\\marcio-justo\\\\_Treinamentos\\\\15052024\\\\Udemy\\\\Estatistica para Analise de Dados com Python\\\\25\"\n",
    "\n",
    "enem_sp = pd.read_csv(l_path + \"\\\\enem_2019_tratado.csv\", sep=',', encoding='iso-8859-1')\n",
    "enem_sp.head()"
   ]
  },
  {
   "cell_type": "code",
   "execution_count": null,
   "id": "af3b22af-e2c2-438a-9a3f-610c6e06b743",
   "metadata": {},
   "outputs": [],
   "source": [
    "colegioy= enem_sp.loc[enem_sp.CO_ESCOLA == 35151506.0]"
   ]
  },
  {
   "cell_type": "code",
   "execution_count": null,
   "id": "96e4eaa8-7f30-4a28-b63a-2af95a555550",
   "metadata": {},
   "outputs": [],
   "source": [
    "colegioy.shape"
   ]
  },
  {
   "cell_type": "code",
   "execution_count": null,
   "id": "cc42f1ed-bb17-4aaf-bc7e-e0288f5b7327",
   "metadata": {},
   "outputs": [],
   "source": [
    "colegioy.head()"
   ]
  },
  {
   "cell_type": "markdown",
   "id": "c85847b7-60bd-44b8-8506-dfece5a2bcb7",
   "metadata": {},
   "source": [
    "1) Analisar a classificação das variáveis"
   ]
  },
  {
   "cell_type": "code",
   "execution_count": null,
   "id": "1c64584e-f840-44f0-bd7b-ab7554f60cc7",
   "metadata": {},
   "outputs": [],
   "source": [
    "colegioy.dtypes"
   ]
  },
  {
   "cell_type": "markdown",
   "id": "c7efc644-c442-4613-b7ee-5c212eb6126b",
   "metadata": {},
   "source": [
    "2) Analisar valores faltantes (missing)"
   ]
  },
  {
   "cell_type": "code",
   "execution_count": null,
   "id": "94aeb77b-0f19-4c4b-94fa-c80b470cbdbf",
   "metadata": {},
   "outputs": [],
   "source": [
    "colegioy.isnull().sum()"
   ]
  },
  {
   "cell_type": "markdown",
   "id": "d375827d-7656-4e9d-b110-06c362a190be",
   "metadata": {},
   "source": [
    "3) Analisar outliers"
   ]
  },
  {
   "cell_type": "code",
   "execution_count": null,
   "id": "c71843fb-dc01-4502-9382-74da66c85ffc",
   "metadata": {},
   "outputs": [],
   "source": [
    "import plotly.express as px"
   ]
  },
  {
   "cell_type": "code",
   "execution_count": null,
   "id": "dfa01b77-a457-4db9-9e92-e76e0cf5be07",
   "metadata": {},
   "outputs": [],
   "source": [
    "grafico = px.box(colegioy, y=\"NOTA_REDACAO\")\n",
    "grafico.show()"
   ]
  },
  {
   "cell_type": "markdown",
   "id": "8771ce98-ecca-41a7-8b1f-d426b183627a",
   "metadata": {},
   "source": [
    "4) Analisar Normalidade"
   ]
  },
  {
   "cell_type": "code",
   "execution_count": null,
   "id": "edc90fa8-f210-4c36-adf7-5d8bdd6b54db",
   "metadata": {},
   "outputs": [],
   "source": [
    "import seaborn as sns\n",
    "sns.histplot(colegioy, x='NOTA_REDACAO', bins=10, color=\"orange\", kde=True, stat=\"probability\")"
   ]
  },
  {
   "cell_type": "code",
   "execution_count": null,
   "id": "a5c51619-b576-4912-abf2-f93a62f85f33",
   "metadata": {},
   "outputs": [],
   "source": [
    "import scipy.stats as stats\n",
    "import matplotlib.pyplot as plt"
   ]
  },
  {
   "cell_type": "code",
   "execution_count": null,
   "id": "05c8c68b-1e77-449a-bbd9-44dd4e5adcd8",
   "metadata": {},
   "outputs": [],
   "source": [
    "stats.probplot(colegioy['NOTA_REDACAO'], dist=\"norm\", plot=plt)\n",
    "plt.title(\"Normal QQ plot\")\n",
    "plt.show()"
   ]
  },
  {
   "cell_type": "markdown",
   "id": "4dee5fbb-ae52-4374-8f73-a713f6dd6566",
   "metadata": {},
   "source": [
    "CRITÉRIOS:"
   ]
  },
  {
   "cell_type": "markdown",
   "id": "0cbbd20b-c551-4ee3-a336-a6a0fb82be75",
   "metadata": {},
   "source": [
    "Nível de significância de 00,5 ou 5% (mais utilizado)"
   ]
  },
  {
   "cell_type": "markdown",
   "id": "56d78d13-4a93-4549-9c1c-bf9c114dba98",
   "metadata": {},
   "source": [
    "Quando p > 0,05 (é distribuição normal)"
   ]
  },
  {
   "cell_type": "code",
   "execution_count": null,
   "id": "a217efd0-724e-4027-bd59-9412a9bc72bd",
   "metadata": {},
   "outputs": [],
   "source": [
    "# Teste Shapiro-Wilk\n",
    "stats.shapiro(colegioy.NOTA_REDACAO)"
   ]
  },
  {
   "cell_type": "code",
   "execution_count": null,
   "id": "fce99a1f-118a-4445-b4db-42762f4dc4ad",
   "metadata": {},
   "outputs": [],
   "source": [
    "import statsmodels\n",
    "from statsmodels.stats.diagnostic import lilliefors"
   ]
  },
  {
   "cell_type": "code",
   "execution_count": null,
   "id": "ffc518d7-19d8-43c4-b4fe-55ce2c084b17",
   "metadata": {},
   "outputs": [],
   "source": [
    "# Teste Lilliefors (Kolmogorov-Smirnov) - bem conservador\n",
    "statsmodels.stats.diagnostic.lilliefors(colegioy.NOTA_REDACAO, dist='norm')"
   ]
  },
  {
   "cell_type": "markdown",
   "id": "c8da3c0f-17c1-4529-be72-8335d2adfc20",
   "metadata": {},
   "source": [
    "Shapiro disse que a distribição é normal, mas o Lilliefors disse que não. Então vamos usar outro teste, chamado Anderson-Darling."
   ]
  },
  {
   "cell_type": "code",
   "execution_count": null,
   "id": "1c0e29f7-0c18-4746-b664-9bf0fa20f571",
   "metadata": {},
   "outputs": [],
   "source": [
    "# Teste Anderson-Darling - Mais flexível\n",
    "stats.anderson(colegioy.NOTA_REDACAO, 'norm')"
   ]
  },
  {
   "cell_type": "markdown",
   "id": "bb37c01f-f111-4a92-8dee-e1b7ca786e1b",
   "metadata": {},
   "source": [
    "Foi preciso realizar todos os testes anteriores para poder usar teste\n",
    "paramétrico (verificar se a distribuição era normal). Se não fosse possível, teríamos que usar um teste não-paramétrico."
   ]
  },
  {
   "cell_type": "markdown",
   "id": "013a0a12-ed25-4cc3-80a2-fc7e9a9beba5",
   "metadata": {},
   "source": [
    "#### Teste t"
   ]
  },
  {
   "cell_type": "markdown",
   "id": "d583ab98-bc12-465a-b7f6-ef71f8595e91",
   "metadata": {},
   "source": [
    "Média das notas do colégio Y, comparada à média do Estado de São Paulo."
   ]
  },
  {
   "cell_type": "code",
   "execution_count": null,
   "id": "6349911b-bfb5-4084-8fd1-1277f8b996e9",
   "metadata": {},
   "outputs": [],
   "source": [
    "enem_sp.NOTA_REDACAO.describe() # média populacional"
   ]
  },
  {
   "cell_type": "markdown",
   "id": "5597604a-a806-4631-a170-22359124f958",
   "metadata": {},
   "source": [
    "Ho = média é igual à de São Paulo: p > 0.05 (dentro da margem)"
   ]
  },
  {
   "cell_type": "markdown",
   "id": "e5917716-2c43-4115-8862-f4dca434b3f4",
   "metadata": {},
   "source": [
    "Ha = média é diferente da de São Paulo: p <= 0.05"
   ]
  },
  {
   "cell_type": "code",
   "execution_count": null,
   "id": "4acd49ae-205d-43ec-af2d-fb08c2ff7198",
   "metadata": {},
   "outputs": [],
   "source": [
    "import scipy.stats as stats"
   ]
  },
  {
   "cell_type": "code",
   "execution_count": null,
   "id": "e41eee64-1cc7-449c-804e-cfb27b2d7232",
   "metadata": {},
   "outputs": [],
   "source": [
    "stat, p = stats.ttest_1samp(colegioy['NOTA_REDACAO'], popmean=593.018 ) # popmean\n",
    "print('Estatística de teste: {}'.format(stat.round(2)))\n",
    "print('p-valor: {}'.format(p.round(10))) # p-valor tem um e^-05. É menor que 0,05\n",
    "# Cai na Ha"
   ]
  },
  {
   "cell_type": "code",
   "execution_count": null,
   "id": "f5cb1a61-c108-4275-9ce2-8316ed8b367c",
   "metadata": {},
   "outputs": [],
   "source": [
    "colegioy.NOTA_REDACAO.describe()"
   ]
  },
  {
   "cell_type": "markdown",
   "id": "ea339da5-60e2-473f-a5ac-48f50844a563",
   "metadata": {},
   "source": [
    "#### Interpretação:"
   ]
  },
  {
   "cell_type": "markdown",
   "id": "6154f7b1-7c6c-4693-8455-4e12235b6431",
   "metadata": {},
   "source": [
    "Teste estatístico: t = 7,18"
   ]
  },
  {
   "cell_type": "markdown",
   "id": "8ea59027-4d2f-4100-a5b6-e1330d11dae8",
   "metadata": {},
   "source": [
    "p_valor = 6.72e-08"
   ]
  },
  {
   "cell_type": "markdown",
   "id": "b7315874-2211-408d-a0fb-ed630d5232af",
   "metadata": {},
   "source": [
    "Conclusão: Estatisticamente a média do colégio y é diferente da média do Estado de São Paulo, com intervalo de confiança de 95%."
   ]
  },
  {
   "cell_type": "code",
   "execution_count": null,
   "id": "d91593c3-b08b-4914-abb2-e1de33036b54",
   "metadata": {},
   "outputs": [],
   "source": []
  }
 ],
 "metadata": {
  "kernelspec": {
   "display_name": "Python 3 (ipykernel)",
   "language": "python",
   "name": "python3"
  },
  "language_info": {
   "codemirror_mode": {
    "name": "ipython",
    "version": 3
   },
   "file_extension": ".py",
   "mimetype": "text/x-python",
   "name": "python",
   "nbconvert_exporter": "python",
   "pygments_lexer": "ipython3",
   "version": "3.11.7"
  }
 },
 "nbformat": 4,
 "nbformat_minor": 5
}
