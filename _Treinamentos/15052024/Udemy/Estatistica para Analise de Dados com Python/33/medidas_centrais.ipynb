{
 "cells": [
  {
   "cell_type": "markdown",
   "id": "0a51ceb8-e313-4256-8d57-b08caf9aa542",
   "metadata": {},
   "source": [
    "# Medidas de tendência central"
   ]
  },
  {
   "cell_type": "code",
   "execution_count": null,
   "id": "42cb0bd0-2437-4419-9148-c0f74fc456ce",
   "metadata": {},
   "outputs": [],
   "source": [
    "import numpy as np\n",
    "import pandas as pd\n",
    "\n",
    "l_path = \"C:\\\\git\\\\RHE.Developers\\\\marcio-justo\\\\_Treinamentos\\\\15052024\\\\Udemy\\\\Estatistica para Analise de Dados com Python\\\\25\"\n",
    "\n",
    "enem_sp = pd.read_csv(l_path + \"\\\\enem_2019_tratado.csv\", sep=',', encoding='iso-8859-1')\n",
    "enem_sp.head()"
   ]
  },
  {
   "cell_type": "markdown",
   "id": "a7322606-825b-4318-9e54-5af6602bf41f",
   "metadata": {},
   "source": [
    "### Média"
   ]
  },
  {
   "cell_type": "code",
   "execution_count": null,
   "id": "2535fc37-273b-4598-8e77-c28978a4a203",
   "metadata": {},
   "outputs": [],
   "source": [
    "enem_sp['IDADE'].mean() # Média da idade - forma 1"
   ]
  },
  {
   "cell_type": "code",
   "execution_count": null,
   "id": "dbea94ef-3e42-43fe-9c25-c186eba71bcf",
   "metadata": {},
   "outputs": [],
   "source": [
    "enem_sp.IDADE.mean() # Média da idade - forma 2"
   ]
  },
  {
   "cell_type": "code",
   "execution_count": null,
   "id": "76ee179c-710a-4c52-8f74-e9127ed20661",
   "metadata": {},
   "outputs": [],
   "source": [
    "round(enem_sp['IDADE'].mean(), 1)"
   ]
  },
  {
   "cell_type": "code",
   "execution_count": null,
   "id": "12e5ecaa-ada4-416d-8b05-038f1f6e676a",
   "metadata": {},
   "outputs": [],
   "source": [
    "enem_sp.NOTA_REDACAO.mean()"
   ]
  },
  {
   "cell_type": "code",
   "execution_count": null,
   "id": "61dc39db-6f4a-4458-b661-58de97d95d8d",
   "metadata": {},
   "outputs": [],
   "source": [
    "enem_sp['NOTA_MT'].mean()"
   ]
  },
  {
   "cell_type": "code",
   "execution_count": null,
   "id": "378cadf5-a5fc-4773-9cd7-763238d4c026",
   "metadata": {},
   "outputs": [],
   "source": [
    "enem_sp.NOTA_CN.mean()"
   ]
  },
  {
   "cell_type": "code",
   "execution_count": null,
   "id": "a1244ead-0586-43f5-b4e4-cf36c2c073c5",
   "metadata": {},
   "outputs": [],
   "source": [
    "enem_sp.NOTA_CH.mean()"
   ]
  },
  {
   "cell_type": "markdown",
   "id": "12438f7c-3685-4e35-a6fb-5f6e0926d4d8",
   "metadata": {},
   "source": [
    "#### Mediana"
   ]
  },
  {
   "cell_type": "code",
   "execution_count": null,
   "id": "0883eb23-ac2b-4eb7-b0fb-cd4327a82a43",
   "metadata": {},
   "outputs": [],
   "source": [
    "enem_sp['IDADE'].median()"
   ]
  },
  {
   "cell_type": "code",
   "execution_count": null,
   "id": "4887f4eb-261e-4807-a98c-1f1157e5fd8f",
   "metadata": {},
   "outputs": [],
   "source": [
    "enem_sp.NOTA_REDACAO.median()"
   ]
  },
  {
   "cell_type": "code",
   "execution_count": null,
   "id": "bdc3fcf9-1140-4758-a89b-23cae3c3fe97",
   "metadata": {},
   "outputs": [],
   "source": [
    "enem_sp.NOTA_MT.median()"
   ]
  },
  {
   "cell_type": "code",
   "execution_count": null,
   "id": "26cf218b-0a34-4f66-9e96-91d22d356330",
   "metadata": {},
   "outputs": [],
   "source": [
    "# Verificar maior mediana e menor mediana"
   ]
  },
  {
   "cell_type": "code",
   "execution_count": null,
   "id": "ebfd77fc-c6af-4e12-ad95-334a973e6511",
   "metadata": {},
   "outputs": [],
   "source": [
    "enem_sp.describe() # Mostra várias informações para todas as colunas, inclusive as tendências centrais (50% é a mediana). Só para variáveis numéricas, não funciona para qualitativas!!!"
   ]
  },
  {
   "cell_type": "code",
   "execution_count": null,
   "id": "69800537-78cc-4eea-9a72-ba83464a9da3",
   "metadata": {},
   "outputs": [],
   "source": [
    "round(enem_sp.describe(), 1)"
   ]
  },
  {
   "cell_type": "markdown",
   "id": "79ddb750-a20d-4d7e-a25d-68a6d5bebeab",
   "metadata": {},
   "source": [
    "#### Moda"
   ]
  },
  {
   "cell_type": "code",
   "execution_count": null,
   "id": "511d1a32-2688-4228-9e5a-1b6ca0fd95e6",
   "metadata": {},
   "outputs": [],
   "source": [
    "enem_sp['IDADE'].mode()"
   ]
  },
  {
   "cell_type": "code",
   "execution_count": null,
   "id": "c4c8d28d-e9bf-48c7-b8a4-e59c0819bc7b",
   "metadata": {},
   "outputs": [],
   "source": [
    "enem_sp.NOTA_REDACAO.mode()"
   ]
  },
  {
   "cell_type": "code",
   "execution_count": null,
   "id": "264df8db-14c0-434d-8d83-63cad434f32d",
   "metadata": {},
   "outputs": [],
   "source": [
    "enem_sp.NOTA_MT.mode()"
   ]
  },
  {
   "cell_type": "code",
   "execution_count": null,
   "id": "c0da797c-6a6d-4049-bc25-f83158a4bdf0",
   "metadata": {},
   "outputs": [],
   "source": [
    "enem_sp.NOTA_CN.mode()"
   ]
  },
  {
   "cell_type": "code",
   "execution_count": null,
   "id": "6cf2bf3d-c1d5-4183-a330-63c1105a00ff",
   "metadata": {},
   "outputs": [],
   "source": [
    "enem_sp.NOTA_CH.mode()"
   ]
  },
  {
   "cell_type": "code",
   "execution_count": null,
   "id": "895e8d0a-7332-4e4d-94bb-b8b5b42c190a",
   "metadata": {},
   "outputs": [],
   "source": [
    "enem_sp.NOTA_LC.mode()"
   ]
  },
  {
   "cell_type": "markdown",
   "id": "b643c5d4-3cad-40c2-a6ce-f592c323631d",
   "metadata": {},
   "source": [
    "## Distribuição"
   ]
  },
  {
   "cell_type": "code",
   "execution_count": null,
   "id": "1016827b-8b75-40f7-a0d2-6e10a44cca57",
   "metadata": {},
   "outputs": [],
   "source": [
    "# Como \"linkar\" as medidas de tendência central com as distribuições, como estão\n",
    "# distribuídas no histograma"
   ]
  },
  {
   "cell_type": "code",
   "execution_count": null,
   "id": "6a000bcb-95c9-4001-8c6c-27afe77d8b2a",
   "metadata": {},
   "outputs": [],
   "source": [
    "enem_sp.COMP3.mode()"
   ]
  },
  {
   "cell_type": "code",
   "execution_count": null,
   "id": "8376d752-bd2f-404f-bf70-fe55391a6697",
   "metadata": {},
   "outputs": [],
   "source": [
    "enem_sp.COMP3.mean()"
   ]
  },
  {
   "cell_type": "code",
   "execution_count": null,
   "id": "ff18fbde-eb45-4728-b2da-9acdce4f100c",
   "metadata": {},
   "outputs": [],
   "source": [
    "enem_sp.COMP3.median()"
   ]
  },
  {
   "cell_type": "code",
   "execution_count": null,
   "id": "c48862b6-da24-469b-bb02-2e6c1a8eea42",
   "metadata": {},
   "outputs": [],
   "source": [
    "# Moda e mediana iguais e média muito próxima tende a ser uma distribuição simétrica, a Normal"
   ]
  },
  {
   "cell_type": "code",
   "execution_count": null,
   "id": "8c393a28-09c4-4b84-b5f2-b418dedc6ff9",
   "metadata": {},
   "outputs": [],
   "source": [
    "import plotly.express as px\n",
    "grafico = px.histogram(enem_sp, x='COMP3', nbins=15)\n",
    "grafico.update_layout(width=400, height=400, title_text='Notas do componente 3 da redação - Enem SP 2019')\n",
    "grafico.show()"
   ]
  },
  {
   "cell_type": "code",
   "execution_count": null,
   "id": "652c8a3a-39be-4d7e-81da-9bf9b675188f",
   "metadata": {},
   "outputs": [],
   "source": [
    "enem_sp.COMP2.mode()"
   ]
  },
  {
   "cell_type": "code",
   "execution_count": null,
   "id": "9db728e4-4147-4944-85c1-0e3d6e4b3705",
   "metadata": {},
   "outputs": [],
   "source": [
    "enem_sp.COMP2.mean()"
   ]
  },
  {
   "cell_type": "code",
   "execution_count": null,
   "id": "01662bac-d67d-4039-9e95-1f735f8500ad",
   "metadata": {},
   "outputs": [],
   "source": [
    "enem_sp.COMP3.median()"
   ]
  },
  {
   "cell_type": "code",
   "execution_count": null,
   "id": "fce1d4e9-5a39-45ef-ac8f-04df2a3a7cc7",
   "metadata": {},
   "outputs": [],
   "source": [
    "import plotly.express as px\n",
    "grafico = px.histogram(enem_sp, x='COMP2', nbins=15)\n",
    "grafico.update_layout(width=400, height=400, title_text='Notas do componente 2 da redação - Enem SP 2019')\n",
    "grafico.show()"
   ]
  },
  {
   "cell_type": "code",
   "execution_count": null,
   "id": "052e410e-cd5b-4cfc-8e97-e3abdfd72265",
   "metadata": {},
   "outputs": [],
   "source": []
  }
 ],
 "metadata": {
  "kernelspec": {
   "display_name": "Python 3 (ipykernel)",
   "language": "python",
   "name": "python3"
  },
  "language_info": {
   "codemirror_mode": {
    "name": "ipython",
    "version": 3
   },
   "file_extension": ".py",
   "mimetype": "text/x-python",
   "name": "python",
   "nbconvert_exporter": "python",
   "pygments_lexer": "ipython3",
   "version": "3.11.7"
  }
 },
 "nbformat": 4,
 "nbformat_minor": 5
}
