{
 "cells": [
  {
   "cell_type": "markdown",
   "id": "0a51ceb8-e313-4256-8d57-b08caf9aa542",
   "metadata": {},
   "source": [
    "# Medidas de dispersão e posição"
   ]
  },
  {
   "cell_type": "code",
   "execution_count": null,
   "id": "42cb0bd0-2437-4419-9148-c0f74fc456ce",
   "metadata": {},
   "outputs": [],
   "source": [
    "import numpy as np\n",
    "import pandas as pd\n",
    "\n",
    "l_path = \"C:\\\\git\\\\RHE.Developers\\\\marcio-justo\\\\_Treinamentos\\\\15052024\\\\Udemy\\\\Estatistica para Analise de Dados com Python\\\\25\"\n",
    "\n",
    "enem_sp = pd.read_csv(l_path + \"\\\\enem_2019_tratado.csv\", sep=',', encoding='iso-8859-1')\n",
    "enem_sp.head()"
   ]
  },
  {
   "cell_type": "markdown",
   "id": "a7322606-825b-4318-9e54-5af6602bf41f",
   "metadata": {},
   "source": [
    "### Medidas de Dispersão"
   ]
  },
  {
   "cell_type": "code",
   "execution_count": null,
   "id": "2535fc37-273b-4598-8e77-c28978a4a203",
   "metadata": {},
   "outputs": [],
   "source": [
    "enem_sp['NOTA_MT'].var() # Variância - Dispersão das notas com relação à média"
   ]
  },
  {
   "cell_type": "code",
   "execution_count": null,
   "id": "dbea94ef-3e42-43fe-9c25-c186eba71bcf",
   "metadata": {},
   "outputs": [],
   "source": [
    "enem_sp.NOTA_MT.var() # Variância - forma 2"
   ]
  },
  {
   "cell_type": "code",
   "execution_count": null,
   "id": "76ee179c-710a-4c52-8f74-e9127ed20661",
   "metadata": {},
   "outputs": [],
   "source": [
    "enem_sp.NOTA_MT.std() # Desvio padrão (raiz quadrada da variância)"
   ]
  },
  {
   "cell_type": "code",
   "execution_count": null,
   "id": "12e5ecaa-ada4-416d-8b05-038f1f6e676a",
   "metadata": {},
   "outputs": [],
   "source": [
    "enem_sp.NOTA_MT.mean() # Média"
   ]
  },
  {
   "cell_type": "code",
   "execution_count": null,
   "id": "61dc39db-6f4a-4458-b661-58de97d95d8d",
   "metadata": {},
   "outputs": [],
   "source": [
    "# enem_sp.NOTA_MT.mad() # Desvio absoluto. Função mad() descontinuada\n",
    "# enem_sp.NOTA_MT.abs().mean()\n",
    "\n",
    "# Novo cálculo de Desvio Absoluto (uma \"amplitude\" em relação à média. Medidas de dispersão são sempre em relação à média!!)\n",
    "notas_mt = enem_sp.NOTA_MT\n",
    "mad = (notas_mt - notas_mt.mean()).abs().mean()\n",
    "mad\n",
    "\n",
    "#Renda = dados.Renda\n",
    "#(Renda-Renda.mean()).abs().mean()\n"
   ]
  },
  {
   "cell_type": "code",
   "execution_count": null,
   "id": "378cadf5-a5fc-4773-9cd7-763238d4c026",
   "metadata": {},
   "outputs": [],
   "source": [
    "enem_sp.NOTA_REDACAO.var() # Dispersão das notas em Redação foi menor que em Matemática, ou seja, estão mais concentradas ao redor da média!"
   ]
  },
  {
   "cell_type": "code",
   "execution_count": null,
   "id": "a1244ead-0586-43f5-b4e4-cf36c2c073c5",
   "metadata": {},
   "outputs": [],
   "source": [
    "enem_sp.NOTA_REDACAO.std() # Notas menos dispersas da média quando comparada às de Matemática"
   ]
  },
  {
   "cell_type": "code",
   "execution_count": null,
   "id": "0883eb23-ac2b-4eb7-b0fb-cd4327a82a43",
   "metadata": {},
   "outputs": [],
   "source": [
    "enem_sp.NOTA_REDACAO.mean()"
   ]
  },
  {
   "cell_type": "code",
   "execution_count": null,
   "id": "4887f4eb-261e-4807-a98c-1f1157e5fd8f",
   "metadata": {},
   "outputs": [],
   "source": [
    "enem_sp.describe() # Exibe um resumo das informações de dispersão - std, mediana (50%)"
   ]
  },
  {
   "cell_type": "markdown",
   "id": "d376f4cc-6c42-4e11-abe3-02fd20bc369d",
   "metadata": {},
   "source": [
    "### Medidas de Posição"
   ]
  },
  {
   "cell_type": "code",
   "execution_count": null,
   "id": "26cf218b-0a34-4f66-9e96-91d22d356330",
   "metadata": {},
   "outputs": [],
   "source": [
    "# Mínimo\n",
    "enem_sp['NOTA_MT'].min()"
   ]
  },
  {
   "cell_type": "code",
   "execution_count": null,
   "id": "ebfd77fc-c6af-4e12-ad95-334a973e6511",
   "metadata": {},
   "outputs": [],
   "source": [
    "enem_sp.NOTA_MT.min()"
   ]
  },
  {
   "cell_type": "code",
   "execution_count": null,
   "id": "69800537-78cc-4eea-9a72-ba83464a9da3",
   "metadata": {},
   "outputs": [],
   "source": [
    "# Máximo\n",
    "enem_sp['NOTA_MT'].max()"
   ]
  },
  {
   "cell_type": "code",
   "execution_count": null,
   "id": "ed5557c1-be22-4cdf-96cd-5ce9270db3de",
   "metadata": {},
   "outputs": [],
   "source": [
    "# Primeiro Quartil (Q1)\n",
    "enem_sp['NOTA_MT'].quantile(q=0.25)"
   ]
  },
  {
   "cell_type": "code",
   "execution_count": null,
   "id": "511d1a32-2688-4228-9e5a-1b6ca0fd95e6",
   "metadata": {},
   "outputs": [],
   "source": [
    "# Segundo Quartil (Q2) ou Mediana\n",
    "enem_sp['NOTA_MT'].quantile(q=0.5)"
   ]
  },
  {
   "cell_type": "code",
   "execution_count": null,
   "id": "c4c8d28d-e9bf-48c7-b8a4-e59c0819bc7b",
   "metadata": {},
   "outputs": [],
   "source": [
    "# Terceiro Quartil (Q3)\n",
    "enem_sp['NOTA_MT'].quantile(q=0.75)"
   ]
  },
  {
   "cell_type": "code",
   "execution_count": null,
   "id": "04e44cdb-5283-4d55-a47e-3270ae8d7d57",
   "metadata": {},
   "outputs": [],
   "source": [
    "# Pode ser modificado o parâmetro de porcentagem, daí deixa de ser quartil (e vira percentil?)\n",
    "enem_sp['NOTA_MT'].quantile(q=0.99)"
   ]
  },
  {
   "cell_type": "code",
   "execution_count": null,
   "id": "264df8db-14c0-434d-8d83-63cad434f32d",
   "metadata": {},
   "outputs": [],
   "source": [
    "enem_sp.NOTA_MT.describe() # Medidas de posição no describe aparecem como min, max, 25%, 50% e 75% "
   ]
  },
  {
   "cell_type": "code",
   "execution_count": null,
   "id": "c0da797c-6a6d-4049-bc25-f83158a4bdf0",
   "metadata": {},
   "outputs": [],
   "source": [
    "enem_sp.NOTA_CN.mode()"
   ]
  },
  {
   "cell_type": "code",
   "execution_count": null,
   "id": "6cf2bf3d-c1d5-4183-a330-63c1105a00ff",
   "metadata": {},
   "outputs": [],
   "source": [
    "enem_sp.NOTA_CH.mode()"
   ]
  },
  {
   "cell_type": "code",
   "execution_count": null,
   "id": "895e8d0a-7332-4e4d-94bb-b8b5b42c190a",
   "metadata": {},
   "outputs": [],
   "source": [
    "enem_sp.NOTA_LC.mode()"
   ]
  },
  {
   "cell_type": "markdown",
   "id": "b643c5d4-3cad-40c2-a6ce-f592c323631d",
   "metadata": {},
   "source": [
    "## Distribuição"
   ]
  },
  {
   "cell_type": "code",
   "execution_count": null,
   "id": "1016827b-8b75-40f7-a0d2-6e10a44cca57",
   "metadata": {},
   "outputs": [],
   "source": [
    "# Como \"linkar\" as medidas de tendência central com as distribuições, como estão\n",
    "# distribuídas no histograma"
   ]
  },
  {
   "cell_type": "code",
   "execution_count": null,
   "id": "6a000bcb-95c9-4001-8c6c-27afe77d8b2a",
   "metadata": {},
   "outputs": [],
   "source": [
    "enem_sp.COMP3.mode()"
   ]
  },
  {
   "cell_type": "code",
   "execution_count": null,
   "id": "8376d752-bd2f-404f-bf70-fe55391a6697",
   "metadata": {},
   "outputs": [],
   "source": [
    "enem_sp.COMP3.mean()"
   ]
  },
  {
   "cell_type": "code",
   "execution_count": null,
   "id": "ff18fbde-eb45-4728-b2da-9acdce4f100c",
   "metadata": {},
   "outputs": [],
   "source": [
    "enem_sp.COMP3.median()"
   ]
  },
  {
   "cell_type": "code",
   "execution_count": null,
   "id": "c48862b6-da24-469b-bb02-2e6c1a8eea42",
   "metadata": {},
   "outputs": [],
   "source": [
    "# Moda e mediana iguais e média muito próxima tende a ser uma distribuição simétrica, a Normal"
   ]
  },
  {
   "cell_type": "code",
   "execution_count": null,
   "id": "8c393a28-09c4-4b84-b5f2-b418dedc6ff9",
   "metadata": {},
   "outputs": [],
   "source": [
    "import plotly.express as px\n",
    "grafico = px.histogram(enem_sp, x='COMP3', nbins=15)\n",
    "grafico.update_layout(width=400, height=400, title_text='Notas do componente 3 da redação - Enem SP 2019')\n",
    "grafico.show()"
   ]
  },
  {
   "cell_type": "code",
   "execution_count": null,
   "id": "652c8a3a-39be-4d7e-81da-9bf9b675188f",
   "metadata": {},
   "outputs": [],
   "source": [
    "enem_sp.COMP2.mode()"
   ]
  },
  {
   "cell_type": "code",
   "execution_count": null,
   "id": "9db728e4-4147-4944-85c1-0e3d6e4b3705",
   "metadata": {},
   "outputs": [],
   "source": [
    "enem_sp.COMP2.mean()"
   ]
  },
  {
   "cell_type": "code",
   "execution_count": null,
   "id": "01662bac-d67d-4039-9e95-1f735f8500ad",
   "metadata": {},
   "outputs": [],
   "source": [
    "enem_sp.COMP3.median()"
   ]
  },
  {
   "cell_type": "code",
   "execution_count": null,
   "id": "fce1d4e9-5a39-45ef-ac8f-04df2a3a7cc7",
   "metadata": {},
   "outputs": [],
   "source": [
    "import plotly.express as px\n",
    "grafico = px.histogram(enem_sp, x='COMP2', nbins=15)\n",
    "grafico.update_layout(width=400, height=400, title_text='Notas do componente 2 da redação - Enem SP 2019')\n",
    "grafico.show()"
   ]
  },
  {
   "cell_type": "markdown",
   "id": "dcdc532a-3e86-476e-b59c-da79c9b9d887",
   "metadata": {},
   "source": [
    "### Gráfico BoxPlot e Outliers"
   ]
  },
  {
   "cell_type": "markdown",
   "id": "c8cb71e1-4afb-468b-bbe2-717a7fb180c9",
   "metadata": {},
   "source": [
    "#### Matplotlib"
   ]
  },
  {
   "cell_type": "code",
   "execution_count": null,
   "id": "dfa43327-9df7-4116-83f4-fb40f682d86d",
   "metadata": {},
   "outputs": [],
   "source": [
    "import matplotlib.pyplot as plt\n",
    "plt.boxplot(enem_sp.NOTA_MT) # boxplot(tabela de dados.variável)\n",
    "plt.show()"
   ]
  },
  {
   "cell_type": "markdown",
   "id": "506bf452-c469-4ffd-a721-09842aac7be5",
   "metadata": {},
   "source": [
    "### Seaborn"
   ]
  },
  {
   "cell_type": "code",
   "execution_count": null,
   "id": "8d7d2d41-11c5-4066-aa71-0097da8d78f1",
   "metadata": {},
   "outputs": [],
   "source": [
    "import seaborn as sns"
   ]
  },
  {
   "cell_type": "code",
   "execution_count": null,
   "id": "4dcf709b-78b1-49fe-8ba1-6eab8619a796",
   "metadata": {},
   "outputs": [],
   "source": [
    "sns.boxplot(y='NOTA_MT', data=enem_sp);"
   ]
  },
  {
   "cell_type": "markdown",
   "id": "d08a8669-a64d-4753-9bcc-fb0afb3b0715",
   "metadata": {},
   "source": [
    "### Plotly"
   ]
  },
  {
   "cell_type": "code",
   "execution_count": null,
   "id": "390751be-2c56-4562-95c0-7cdc81878b20",
   "metadata": {},
   "outputs": [],
   "source": [
    "import plotly.express as px\n",
    "grafico = px.box(enem_sp, y=\"NOTA_MT\")\n",
    "grafico.show()"
   ]
  },
  {
   "cell_type": "code",
   "execution_count": null,
   "id": "2b6575fa-a06e-4beb-a743-6ce2d33cfba5",
   "metadata": {},
   "outputs": [],
   "source": [
    "sem_outliers = enem_sp.loc[enem_sp.NOTA_MT <= 902.9]"
   ]
  },
  {
   "cell_type": "code",
   "execution_count": null,
   "id": "8b4243d6-ec66-4575-976f-9bfc6aa0f45f",
   "metadata": {},
   "outputs": [],
   "source": [
    "sem_outliers = sem_outliers.loc[sem_outliers.NOTA_MT >= 359.1]"
   ]
  },
  {
   "cell_type": "code",
   "execution_count": null,
   "id": "4d0808c0-0909-4bc6-963f-9b66af5150f9",
   "metadata": {},
   "outputs": [],
   "source": [
    "sem_outliers.head()"
   ]
  },
  {
   "cell_type": "code",
   "execution_count": null,
   "id": "f28e7ec4-ee9e-4e71-bc10-89dfb5b0fc32",
   "metadata": {},
   "outputs": [],
   "source": [
    "grafico = px.box(sem_outliers, y=\"NOTA_MT\")  # CUIDADO AO RETIRAR OS OUTLIERS, POIS O PYTHON RECALCULA OS LIMITES!!!\n",
    "grafico.show()"
   ]
  },
  {
   "cell_type": "code",
   "execution_count": null,
   "id": "4d3bf270-e8ed-43fa-87cb-70a0affd6530",
   "metadata": {},
   "outputs": [],
   "source": [
    "grafico = px.box(enem_sp, y=\"NOTA_CN\")\n",
    "grafico.show()"
   ]
  },
  {
   "cell_type": "code",
   "execution_count": null,
   "id": "739f6c9a-916d-464e-a318-c3f711b29be1",
   "metadata": {},
   "outputs": [],
   "source": [
    "grafico = px.box(enem_sp, y=\"NOTA_CH\")\n",
    "grafico.show()"
   ]
  },
  {
   "cell_type": "code",
   "execution_count": null,
   "id": "44cd4ca9-90d3-41eb-a526-73b90a43feb0",
   "metadata": {},
   "outputs": [],
   "source": [
    "grafico = px.box(enem_sp, y=\"NOTA_LC\")\n",
    "grafico.show()"
   ]
  },
  {
   "cell_type": "code",
   "execution_count": null,
   "id": "40ffcf1e-df99-4e33-b781-4ae8c3bcf302",
   "metadata": {},
   "outputs": [],
   "source": [
    "grafico = px.box(enem_sp, y=\"NOTA_REDACAO\")\n",
    "grafico.show()"
   ]
  },
  {
   "cell_type": "code",
   "execution_count": null,
   "id": "c2535547-dc21-4919-acdf-e6002430d7cc",
   "metadata": {},
   "outputs": [],
   "source": [
    "grafico = px.box(enem_sp, x=\"SEXO\", y=\"NOTA_MT\") # Comparação por grupos de variáveis\n",
    "grafico.show()"
   ]
  },
  {
   "cell_type": "code",
   "execution_count": null,
   "id": "cf61782b-2a73-408b-8dbb-d5eb4753b996",
   "metadata": {},
   "outputs": [],
   "source": [
    "grafico = px.box(enem_sp, x=\"RACA\", y=\"NOTA_MT\")\n",
    "grafico.show()"
   ]
  },
  {
   "cell_type": "code",
   "execution_count": null,
   "id": "bec85865-9128-4f0c-abab-496cc5721924",
   "metadata": {},
   "outputs": [],
   "source": [
    "grafico = px.box(enem_sp, x=\"ESCOLA\", y=\"NOTA_MT\")\n",
    "grafico.show()"
   ]
  },
  {
   "cell_type": "code",
   "execution_count": null,
   "id": "a8556dec-c564-47ba-a7be-76bc87a70efb",
   "metadata": {},
   "outputs": [],
   "source": []
  }
 ],
 "metadata": {
  "kernelspec": {
   "display_name": "Python 3 (ipykernel)",
   "language": "python",
   "name": "python3"
  },
  "language_info": {
   "codemirror_mode": {
    "name": "ipython",
    "version": 3
   },
   "file_extension": ".py",
   "mimetype": "text/x-python",
   "name": "python",
   "nbconvert_exporter": "python",
   "pygments_lexer": "ipython3",
   "version": "3.11.7"
  }
 },
 "nbformat": 4,
 "nbformat_minor": 5
}
