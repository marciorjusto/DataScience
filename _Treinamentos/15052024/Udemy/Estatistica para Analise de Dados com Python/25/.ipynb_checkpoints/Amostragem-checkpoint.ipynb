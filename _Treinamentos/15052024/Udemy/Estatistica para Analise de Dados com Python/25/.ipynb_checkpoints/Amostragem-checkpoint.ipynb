{
 "cells": [
  {
   "cell_type": "markdown",
   "id": "e19f5e52-b338-4b18-8556-fd3d1350c602",
   "metadata": {},
   "source": [
    "# 1. Amostragens"
   ]
  },
  {
   "cell_type": "code",
   "execution_count": null,
   "id": "fb3ec30b-06d3-49f1-af54-c5c2f959f3ad",
   "metadata": {
    "editable": true,
    "slideshow": {
     "slide_type": ""
    },
    "tags": []
   },
   "outputs": [],
   "source": [
    "import numpy  as np\n",
    "import pandas as pd\n",
    "\n",
    "l_path = \"C:\\\\git\\\\RHE.Developers\\\\marcio-justo\\\\_Treinamentos\\\\15052024\\\\Udemy\\\\Estatistica para Analise de Dados com Python\\\\25\"\n",
    "\n",
    "enem_sp = pd.read_csv(l_path + \"\\\\enem_2019_tratado.csv\", sep=',', encoding='iso-8859-1')\n",
    "enem_sp.head()"
   ]
  },
  {
   "cell_type": "code",
   "execution_count": null,
   "id": "4f981e09-1d98-400e-a948-2425122ca5d3",
   "metadata": {},
   "outputs": [],
   "source": [
    "enem_campinas = enem_sp.loc[enem_sp.NO_MUNICIPIO_RESIDENCIA == 'Campinas'] # Localizar na coluna da planilha importada\n",
    "enem_campinas.head(10)  # Primeiras 10 linhas"
   ]
  },
  {
   "cell_type": "code",
   "execution_count": null,
   "id": "2e5afe36-0bda-420e-95e0-d8f6a1f7d356",
   "metadata": {},
   "outputs": [],
   "source": [
    "enem_campinas.shape # Total de linhas= 13198 e colunas = 28 (variáveis)"
   ]
  },
  {
   "cell_type": "markdown",
   "id": "9eb9b872-8a7a-40aa-98a7-708b03d63f59",
   "metadata": {},
   "source": [
    "# 1.1. Amostragem Aleatória Simples"
   ]
  },
  {
   "cell_type": "code",
   "execution_count": null,
   "id": "3971c552-672d-4bef-841c-e2f0238dd5ae",
   "metadata": {},
   "outputs": [],
   "source": [
    "#\n",
    "# Seleção executada por meio de sorteio, sem nenhum filtro\n",
    "#\n",
    "\n",
    "\n",
    "np.random.seed(1) # 1. Gerar - e \"gravar\" - semente aleatória em Python. Se não tiver, gera um resultado diferente a cada execução!"
   ]
  },
  {
   "cell_type": "code",
   "execution_count": null,
   "id": "b382199c-8ffe-475f-adc6-a1b104601892",
   "metadata": {},
   "outputs": [],
   "source": [
    "amos_simples = enem_campinas.sample(frac=0.20) # Busca uma amostra em porcentagem de 20% dos dados\n",
    "amos_simples"
   ]
  },
  {
   "cell_type": "code",
   "execution_count": null,
   "id": "d816c5e4-8cae-4c17-ab1f-1101a3406ec7",
   "metadata": {},
   "outputs": [],
   "source": [
    "amos_simples = enem_campinas.sample(3000) # Amostra aleatória por Quantidade Numérica\n",
    "amos_simples"
   ]
  },
  {
   "cell_type": "markdown",
   "id": "752d7c86-9a70-43b7-b04a-59c9d52a5c73",
   "metadata": {},
   "source": [
    "## Outra maneira"
   ]
  },
  {
   "cell_type": "code",
   "execution_count": null,
   "id": "5947a931-d836-460b-ab76-5072a7c4de98",
   "metadata": {},
   "outputs": [],
   "source": [
    "np.random.seed(2) # 1. Gerar - e \"gravar\" - semente aleatória em Python.\n",
    "amostra = np.random.choice(a=[0,1], size=13198, replace=True, p=[0.8,0.2]) # Amostra aleatória simples - por proporção\n",
    "# a= gerar números (\"tickets\") entre 0 e 1\n",
    "# size = tamanho da amostra Campinas\n",
    "# p = Porcentagem -> 80% de valores 0 (do a[0,1]) e 20% de valores 1 (do mesmo a)\n",
    "amostra"
   ]
  },
  {
   "cell_type": "code",
   "execution_count": null,
   "id": "f06a91cd-9f95-4ae6-a065-aff3ba63677e",
   "metadata": {},
   "outputs": [],
   "source": [
    "len(amostra[amostra == 0])"
   ]
  },
  {
   "cell_type": "code",
   "execution_count": null,
   "id": "aa7269b5-1998-4d7c-953f-60ece34a046e",
   "metadata": {},
   "outputs": [],
   "source": [
    "len(amostra[amostra == 1])"
   ]
  },
  {
   "cell_type": "code",
   "execution_count": null,
   "id": "ec2c5242-2818-4d7c-b508-fa87ddc244f7",
   "metadata": {},
   "outputs": [],
   "source": [
    "amos_simples = enem_campinas.loc[amostra == 1] # Após separar as amostras por random 80%x20%, eu digo que quero a amostra dos 20%\n",
    "amos_simples"
   ]
  },
  {
   "cell_type": "markdown",
   "id": "c969ca0a-1bb4-4d40-9872-6b14af5ad517",
   "metadata": {},
   "source": [
    "# 1.2. Amostragem Sistemática"
   ]
  },
  {
   "cell_type": "code",
   "execution_count": null,
   "id": "e9e8af0c-597c-49e0-b559-4319d1065ffe",
   "metadata": {},
   "outputs": [],
   "source": [
    "#\n",
    "# Membros da população são ordenados numericamente e são selecionados aleatoriamente, obedecendo uma sequência numérica (\"passo\")\n",
    "#\n",
    "\n",
    "enem_campinas.shape"
   ]
  },
  {
   "cell_type": "code",
   "execution_count": null,
   "id": "06ba0ed7-5d54-4ea8-9a95-779dac1fb84c",
   "metadata": {},
   "outputs": [],
   "source": [
    "np.random.seed(2)\n",
    "inicio = np.random.choice(10, 1) # Valor numérico inicial - De zero a 10, só quero 1 número"
   ]
  },
  {
   "cell_type": "code",
   "execution_count": null,
   "id": "99822193-04b5-4b82-98fe-2ea7581ca503",
   "metadata": {},
   "outputs": [],
   "source": [
    "inicio"
   ]
  },
  {
   "cell_type": "code",
   "execution_count": null,
   "id": "bb21fdc1-0f37-4dc9-a708-abbb8a105940",
   "metadata": {},
   "outputs": [],
   "source": [
    "amostra2 = np.arange(inicio.item(),13198,100) # 1- Valor inicial, 2 - Até chegar ao total, 3 - De 100 em 100\n",
    "amostra2"
   ]
  },
  {
   "cell_type": "code",
   "execution_count": null,
   "id": "e6e8c1be-3b95-4eb0-979a-b009d5fbb37f",
   "metadata": {},
   "outputs": [],
   "source": [
    "amos_sistematica = enem_campinas.iloc[amostra2,:] # iloc = localizar por índice, usando os números da amostra. O dois-pontos busca todos\n",
    "amos_sistematica"
   ]
  },
  {
   "cell_type": "markdown",
   "id": "4b7be77a-4ae9-4623-a824-62cf46d4905e",
   "metadata": {},
   "source": [
    "## Outra maneira"
   ]
  },
  {
   "cell_type": "code",
   "execution_count": null,
   "id": "a0d2d573-7741-4abf-8192-534fc1905841",
   "metadata": {},
   "outputs": [],
   "source": [
    "np.random.seed(30)"
   ]
  },
  {
   "cell_type": "code",
   "execution_count": null,
   "id": "438110fe-d15e-44ee-bb6e-1f274b973596",
   "metadata": {},
   "outputs": [],
   "source": [
    "inicio = np.random.choice(10, 1)\n",
    "passo = np.random.randint(100, 150, 1) # Passo entre 100 e 150, escolha entre dois números"
   ]
  },
  {
   "cell_type": "code",
   "execution_count": null,
   "id": "fc0a5d97-5406-4c54-aca6-bd73fb1fec40",
   "metadata": {},
   "outputs": [],
   "source": [
    "inicio"
   ]
  },
  {
   "cell_type": "code",
   "execution_count": null,
   "id": "451ae0e6-9af8-4528-9227-3801a977c039",
   "metadata": {},
   "outputs": [],
   "source": [
    "passo"
   ]
  },
  {
   "cell_type": "code",
   "execution_count": null,
   "id": "4cbac637-eaed-4b57-8d36-2e6c96d17649",
   "metadata": {},
   "outputs": [],
   "source": [
    "amostra2 = np.arange(inicio.item(),13198,passo.item()) # 1- Valor inicial, 2 - Até chegar ao total de registros da tabela de amostragem, 3 - Passo aleatório\n",
    "amostra2"
   ]
  },
  {
   "cell_type": "code",
   "execution_count": null,
   "id": "94b0b3e5-c675-40d9-903a-28371bc49a9f",
   "metadata": {},
   "outputs": [],
   "source": [
    "amostra2_camp = enem_campinas.iloc[amostra2,:]"
   ]
  },
  {
   "cell_type": "code",
   "execution_count": null,
   "id": "03041903-d009-457a-b778-f4a05d272ab1",
   "metadata": {},
   "outputs": [],
   "source": [
    "amostra2_camp"
   ]
  },
  {
   "cell_type": "markdown",
   "id": "645af15e-c462-4858-a5fb-658eefa48511",
   "metadata": {},
   "source": [
    "# 1.3. Amostragem Estratificada"
   ]
  },
  {
   "cell_type": "code",
   "execution_count": null,
   "id": "6f73a47f-556c-4d25-9034-0cc8be8fcaf9",
   "metadata": {},
   "outputs": [],
   "source": [
    "#\n",
    "# Divisão da população em grupos e seleção aleatória de uma amostra de cada grupo\n",
    "#"
   ]
  },
  {
   "cell_type": "code",
   "execution_count": null,
   "id": "5577d85d-85d4-4f12-9fa5-d29bf7e3cc7d",
   "metadata": {},
   "outputs": [],
   "source": [
    "enem_campinas['RACA'].value_counts()"
   ]
  },
  {
   "cell_type": "markdown",
   "id": "197dd26e-dac9-4ae1-80ac-370e5f4d83bf",
   "metadata": {},
   "source": [
    "#### Para quantidade pequena de grupos"
   ]
  },
  {
   "cell_type": "code",
   "execution_count": null,
   "id": "ef561982-74a8-4794-afcf-2758ee3a0ce0",
   "metadata": {},
   "outputs": [],
   "source": [
    "branca = enem_campinas.loc[enem_campinas.RACA == 'branca'].sample(frac=0.15) # Amostragem de 10% da raça branca. Depois mudou pra 15%\n",
    "branca.shape"
   ]
  },
  {
   "cell_type": "code",
   "execution_count": null,
   "id": "447f3c4e-3e5f-4373-9d60-9995e3dd78c7",
   "metadata": {},
   "outputs": [],
   "source": [
    "parda = enem_campinas.loc[enem_campinas.RACA == 'parda'].sample(frac=0.15) # sample busca aleatoriamente\n",
    "parda.shape"
   ]
  },
  {
   "cell_type": "code",
   "execution_count": null,
   "id": "1400eeaf-653d-4473-8544-d7049a3c0cc8",
   "metadata": {},
   "outputs": [],
   "source": [
    "preta = enem_campinas.loc[enem_campinas.RACA == 'preta'].sample(frac=0.15) # sample busca aleatoriamente\n",
    "preta.shape"
   ]
  },
  {
   "cell_type": "code",
   "execution_count": null,
   "id": "ce168bcf-b1fc-48d4-83a3-f8e3d8b896d4",
   "metadata": {},
   "outputs": [],
   "source": [
    "amarela = enem_campinas.loc[enem_campinas.RACA == 'amarela'].sample(frac=0.15) # sample busca aleatoriamente\n",
    "amarela.shape"
   ]
  },
  {
   "cell_type": "code",
   "execution_count": null,
   "id": "446507e1-7d71-4c52-86f4-a7be8b5b82e0",
   "metadata": {},
   "outputs": [],
   "source": [
    "nd = enem_campinas.loc[enem_campinas.RACA == 'nao_declarado'].sample(frac=0.15) # sample busca aleatoriamente\n",
    "nd.shape"
   ]
  },
  {
   "cell_type": "code",
   "execution_count": null,
   "id": "860f52a3-00a2-4d67-906d-9e0d66b79bc9",
   "metadata": {},
   "outputs": [],
   "source": [
    "indigena = enem_campinas.loc[enem_campinas.RACA == 'indígena'].sample(frac=0.15) # sample busca aleatoriamente\n",
    "indigena.shape"
   ]
  },
  {
   "cell_type": "code",
   "execution_count": null,
   "id": "5da78a7a-436e-495f-8f78-c400dd5fbd96",
   "metadata": {},
   "outputs": [],
   "source": [
    "amos_estra = pd.concat([branca, parda, preta, amarela, nd, indigena]) # Concatenar os dados (as variáveis) de todos os grupos\n",
    "amos_estra"
   ]
  },
  {
   "cell_type": "markdown",
   "id": "6e6a0bad-421a-4ace-a873-6344f6e61849",
   "metadata": {},
   "source": [
    "#### Grandes quantidades de grupos"
   ]
  },
  {
   "cell_type": "code",
   "execution_count": null,
   "id": "faaea130-19ff-41ea-8a8a-51c3c8e0c7c3",
   "metadata": {},
   "outputs": [],
   "source": [
    "# Biblioteca SciKit\n",
    "from sklearn.model_selection import train_test_split # Treinos de teste"
   ]
  },
  {
   "cell_type": "code",
   "execution_count": null,
   "id": "9d9abf32-974f-49ea-81fa-e01e5dcf972c",
   "metadata": {},
   "outputs": [],
   "source": [
    "x_treino, x_teste, y_treino, amos_estra = train_test_split(enem_campinas.drop('RACA', axis=1), enem_campinas['RACA'], stratify=enem_campinas['RACA'], test_size=0.20)"
   ]
  },
  {
   "cell_type": "code",
   "execution_count": null,
   "id": "d78c963f-2029-4321-9dc8-cd9556d51f48",
   "metadata": {},
   "outputs": [],
   "source": [
    "amos_estra.shape"
   ]
  },
  {
   "cell_type": "code",
   "execution_count": null,
   "id": "ceb6cc1d-1989-4467-8a3f-0d8249ca6825",
   "metadata": {},
   "outputs": [],
   "source": [
    "amos_estra.value_counts()"
   ]
  },
  {
   "cell_type": "code",
   "execution_count": null,
   "id": "18382770-411a-4bff-8481-e18f4e28eecf",
   "metadata": {},
   "outputs": [],
   "source": [
    "amos_estra = amos_estra.index # Concatenação, atribuir índices"
   ]
  },
  {
   "cell_type": "code",
   "execution_count": null,
   "id": "03803a50-c641-4f0a-b088-e1b12fe4512f",
   "metadata": {},
   "outputs": [],
   "source": [
    "amos_estra"
   ]
  },
  {
   "cell_type": "code",
   "execution_count": null,
   "id": "45f9a66e-3020-468c-94d8-7a6fae97e40c",
   "metadata": {},
   "outputs": [],
   "source": [
    "amos_estra_camp = enem_campinas.loc[amos_estra,:] # linhas amos_extra, dois pontos traga todas as colunas\n",
    "amos_estra_camp"
   ]
  },
  {
   "cell_type": "markdown",
   "id": "61a6c52f-018d-48f4-b4c9-ccf5fe05191d",
   "metadata": {},
   "source": [
    "# 1.4. Amostragem por Conglomerado ou Agrupamento"
   ]
  },
  {
   "cell_type": "code",
   "execution_count": null,
   "id": "fef866b7-e816-4ce2-9380-c029a6b2c832",
   "metadata": {},
   "outputs": [],
   "source": [
    "#\n",
    "# Divisão da população em grupos com características similares, porém heterogêneas,\n",
    "# e seleção aleatória de alguns grupos para analisar todos os elementos destes grupos\n",
    "#\n",
    "# Na estratificada, dividíamos em grupos e usávamos uma parte desses grupos. \n",
    "# No conglomerado, temos os grupos, selecionamos aleatoriamente alguns grupos \n",
    "# para analisar todos os elementos destes grupos"
   ]
  },
  {
   "cell_type": "code",
   "execution_count": null,
   "id": "0a6227db-7461-4025-9949-558363c516ed",
   "metadata": {},
   "outputs": [],
   "source": [
    "escolas_publicas = enem_campinas.loc[enem_campinas.ESCOLA == 'pública']"
   ]
  },
  {
   "cell_type": "code",
   "execution_count": null,
   "id": "cf851875-9f93-4bbe-998d-859b7d4c260b",
   "metadata": {},
   "outputs": [],
   "source": [
    "escolas_publicas.shape"
   ]
  },
  {
   "cell_type": "code",
   "execution_count": null,
   "id": "07536ec5-c714-4198-a067-9a5dc4d334cf",
   "metadata": {},
   "outputs": [],
   "source": [
    "escolas_publicas"
   ]
  },
  {
   "cell_type": "code",
   "execution_count": null,
   "id": "d220f385-ae6a-4fcd-9827-d3d12a76e45c",
   "metadata": {},
   "outputs": [],
   "source": [
    "amostras = escolas_publicas['CO_ESCOLA'].value_counts()\n",
    "amostras"
   ]
  },
  {
   "cell_type": "code",
   "execution_count": null,
   "id": "891cf2ca-675b-4094-b77b-210d1fe2e5b3",
   "metadata": {},
   "outputs": [],
   "source": [
    "# Selecionar algumas das escolas e montar uma tabela de dados com todos os alunos dessas escolas públicas selecionadas"
   ]
  },
  {
   "cell_type": "code",
   "execution_count": null,
   "id": "7328cad4-b401-4412-a31d-21d41dc2ea13",
   "metadata": {},
   "outputs": [],
   "source": [
    "amostras.index"
   ]
  },
  {
   "cell_type": "code",
   "execution_count": null,
   "id": "2c287cf6-924a-4940-9f73-4230696f1530",
   "metadata": {},
   "outputs": [],
   "source": [
    "amostragem = np.random.choice(a=[0,1], size=186, replace=True, p=[0.85, 0.15])"
   ]
  },
  {
   "cell_type": "code",
   "execution_count": null,
   "id": "d7318296-d253-4169-8b25-3a8e8ede842e",
   "metadata": {},
   "outputs": [],
   "source": [
    "amostragem"
   ]
  },
  {
   "cell_type": "code",
   "execution_count": null,
   "id": "4354df28-3800-4a4e-89e9-7c87348de6b3",
   "metadata": {},
   "outputs": [],
   "source": [
    "amos_conglomerado = amostras.loc[amostragem == 1]"
   ]
  },
  {
   "cell_type": "code",
   "execution_count": null,
   "id": "5b8cb3eb-36bd-4222-be74-b9a3486b1075",
   "metadata": {},
   "outputs": [],
   "source": [
    "amos_conglomerado"
   ]
  },
  {
   "cell_type": "code",
   "execution_count": null,
   "id": "44f6a9ac-d4e4-43cb-9193-fee2769dcbec",
   "metadata": {},
   "outputs": [],
   "source": [
    "amos_conglomerado.shape"
   ]
  },
  {
   "cell_type": "code",
   "execution_count": null,
   "id": "c4340f15-7ef0-4a6c-8758-4ee4f828a462",
   "metadata": {},
   "outputs": [],
   "source": [
    "amos_conglomerado.index"
   ]
  },
  {
   "cell_type": "code",
   "execution_count": null,
   "id": "0e5f6e5a-2d35-49c8-937f-92847a72993b",
   "metadata": {},
   "outputs": [],
   "source": [
    "# isin = para buscar os códigos das escolas\n",
    "amos_conglomerado = escolas_publicas.loc[escolas_publicas['CO_ESCOLA'].isin([35045937.0, 35018797.0, 35018351.0, 35112859.0, 35018272.0, 35907352.0,\n",
    "       35913984.0, 35018697.0, 35923655.0, 35914897.0, 35125568.0, 35018260.0,\n",
    "       35040400.0, 35127796.0, 35037965.0, 35901131.0, 35907406.0, 35071286.0,\n",
    "       35112562.0, 35112720.0, 35450820.0, 35165062.0, 35011343.0, 35914009.0,\n",
    "       35015830.0, 35800387.0, 35441648.0, 35042523.0])]"
   ]
  },
  {
   "cell_type": "code",
   "execution_count": null,
   "id": "8e0e57d1-d6ae-42ab-bfc4-d798be5eeece",
   "metadata": {},
   "outputs": [],
   "source": [
    "amos_conglomerado"
   ]
  },
  {
   "cell_type": "code",
   "execution_count": null,
   "id": "90633a93-b17f-451d-8dca-c3947e660158",
   "metadata": {},
   "outputs": [],
   "source": []
  }
 ],
 "metadata": {
  "kernelspec": {
   "display_name": "Python 3 (ipykernel)",
   "language": "python",
   "name": "python3"
  },
  "language_info": {
   "codemirror_mode": {
    "name": "ipython",
    "version": 3
   },
   "file_extension": ".py",
   "mimetype": "text/x-python",
   "name": "python",
   "nbconvert_exporter": "python",
   "pygments_lexer": "ipython3",
   "version": "3.11.7"
  }
 },
 "nbformat": 4,
 "nbformat_minor": 5
}
