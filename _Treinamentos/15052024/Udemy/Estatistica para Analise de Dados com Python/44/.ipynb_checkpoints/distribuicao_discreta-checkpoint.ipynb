{
 "cells": [
  {
   "cell_type": "markdown",
   "id": "0a51ceb8-e313-4256-8d57-b08caf9aa542",
   "metadata": {},
   "source": [
    "# Distribuição Discreta"
   ]
  },
  {
   "cell_type": "code",
   "execution_count": null,
   "id": "42cb0bd0-2437-4419-9148-c0f74fc456ce",
   "metadata": {},
   "outputs": [],
   "source": [
    "import numpy as np\n",
    "import pandas as pd\n",
    "\n",
    "l_path = \"C:\\\\git\\\\RHE.Developers\\\\marcio-justo\\\\_Treinamentos\\\\15052024\\\\Udemy\\\\Estatistica para Analise de Dados com Python\\\\25\"\n",
    "\n",
    "enem_sp = pd.read_csv(l_path + \"\\\\enem_2019_tratado.csv\", sep=',', encoding='iso-8859-1')\n",
    "enem_sp.head()"
   ]
  },
  {
   "cell_type": "markdown",
   "id": "b9e95f32-2946-49b1-90ea-2a6ab1df4b37",
   "metadata": {},
   "source": [
    "#### Distribuição Binomial"
   ]
  },
  {
   "cell_type": "code",
   "execution_count": null,
   "id": "dbea94ef-3e42-43fe-9c25-c186eba71bcf",
   "metadata": {},
   "outputs": [],
   "source": [
    "# 1) BINOMIAL: Possibilidade de apenas 2 resultados\n",
    "# Tentativas idênticas e independentes\n",
    "# \n",
    "# P(x) = (n!/(n-x)!x!) * p^x * q^(n-x)\n",
    "# Onde:\n",
    "# n = nro de tentativas ou amostras\n",
    "# p = probabilidade de sucesso em uma tentativa\n",
    "# q = probabilidade de fracasso em uma tentativa\n",
    "# x = variável aleatória que representa a contagem do nro. de sucessos\n",
    "#\n",
    "\n",
    "from scipy.stats import binom"
   ]
  },
  {
   "cell_type": "code",
   "execution_count": null,
   "id": "378cadf5-a5fc-4773-9cd7-763238d4c026",
   "metadata": {},
   "outputs": [],
   "source": [
    "# PROBABILIDADE DE RETIRAR UMA MULHER\n",
    "mulher_enem = enem_sp.loc[enem_sp.SEXO == 'F']"
   ]
  },
  {
   "cell_type": "code",
   "execution_count": null,
   "id": "a8556dec-c564-47ba-a7be-76bc87a70efb",
   "metadata": {},
   "outputs": [],
   "source": [
    "p = len(mulher_enem) / len(enem_sp)\n",
    "p"
   ]
  },
  {
   "cell_type": "code",
   "execution_count": null,
   "id": "4bc46ca0-17a1-424f-891e-4d59792d8892",
   "metadata": {},
   "outputs": [],
   "source": [
    "# Duas aplicações da função binom\n",
    "# binom.pmf = valor pontual\n",
    "# binom.cdf = faixa de valores (acumulada)"
   ]
  },
  {
   "cell_type": "code",
   "execution_count": null,
   "id": "a72b7fe0-a48b-4c9f-beb4-2783afcb95e6",
   "metadata": {},
   "outputs": [],
   "source": [
    "# PROBABILIDADE DE RETIRAR EXATAMENTE 4 MULHERES NUM TOTAL DE 10 AMOSTRAS\n",
    "# 1o parâmetro: valor ou limite que se pretende calcular\n",
    "# 2o parâmetro: número de tentativas\n",
    "# 3o parâmetro: probabilidade de sucesso\n",
    "binom.pmf(4,10,p)\n"
   ]
  },
  {
   "cell_type": "code",
   "execution_count": null,
   "id": "db550e9e-4506-4b0f-aef4-ac2cc8f1f066",
   "metadata": {},
   "outputs": [],
   "source": [
    "# PROBABILIDADE DE RETIRAR PELO MENOS UMA MULHER NUM TOTAL DE 10 AMOSTRAS\n",
    "# Ao invés de usar o pmf para cada uma das possibilidades (1..9), usa-se\n",
    "# o 1 - , ou seja a possibilidade de que não saia nenhuma mulher.\n",
    "# Não pode ocorrer 0% de mulher.\n",
    "p0 = 1 - binom.pmf(0, 10, p)\n",
    "p0"
   ]
  },
  {
   "cell_type": "code",
   "execution_count": null,
   "id": "9f2416e1-4c66-476c-b4fa-d0bcf5e5d226",
   "metadata": {},
   "outputs": [],
   "source": [
    "# PROBABILIDADE DE RETIRAR MAIS DO QUE 1 MULHER NUM TOTAL DE 10 AMOSTRAS\n",
    "# Usar novamente a não-ocorrência: não pode ocorrer nenhuma mulher, nem \n",
    "# 1 mulher, tem que ser 2 ou mais\n",
    "\n",
    "p1 = 1 - (binom.pmf(0,10,p) + binom.pmf(1,10,p))\n",
    "p1"
   ]
  },
  {
   "cell_type": "code",
   "execution_count": null,
   "id": "319c8658-d1b7-414b-a7ea-d0bc66e3f9a8",
   "metadata": {},
   "outputs": [],
   "source": [
    "# PROBABILIDADE DE RETIRAR MAIS DO QUE 3 MULHERES NUM TOTAL DE 10 AMOSTRAS\n",
    "# Usar novamente a não-ocorrência: não pode ocorrer nenhuma mulher, nem \n",
    "# 1, nem 2, nem 3\n",
    "p2 = 1 - (binom.pmf(0,10,p) + binom.pmf(1,10,p) + binom.pmf(2,10,p) + binom.pmf(3,10,p))\n",
    "p2"
   ]
  },
  {
   "cell_type": "code",
   "execution_count": null,
   "id": "2699dcca-c464-4021-98ca-6d1ad3283db7",
   "metadata": {},
   "outputs": [],
   "source": [
    "# OUTRA FORMA - Sem a não-ocorrência\n",
    "p21 = binom.pmf(4,10,p) + binom.pmf(5,10,p) + binom.pmf(6,10,p) + binom.pmf(7,10,p) + binom.pmf(8,10,p) + binom.pmf(9,10,p) + binom.pmf(10,10,p)\n",
    "p21"
   ]
  },
  {
   "cell_type": "code",
   "execution_count": null,
   "id": "2a8f90ab-5b4d-4d2a-a88d-eb1a6c3c6d94",
   "metadata": {},
   "outputs": [],
   "source": [
    "# OUTRA FORMA - Com acúmulo\n",
    "p3 = 1 - binom.cdf(3,10,p)\n",
    "p3"
   ]
  },
  {
   "cell_type": "code",
   "execution_count": null,
   "id": "595d7237-94d0-49cd-b35b-e478c5f5a9a0",
   "metadata": {},
   "outputs": [],
   "source": [
    "# PROBABILIDADE DE RETIRAR MAIS DO QUE 8 MULHERES NUM TOTAL DE 10 AMOSTRAS\n",
    "# Nem precisa de não-ocorrência nem de acúmulo, vai direto\n",
    "p4 = binom.pmf(9,10,p) + binom.pmf(10,10,p)\n",
    "p4"
   ]
  },
  {
   "cell_type": "code",
   "execution_count": null,
   "id": "27af4afd-fbf5-4f21-b3fc-cd5ad6dbba00",
   "metadata": {},
   "outputs": [],
   "source": [
    "# OUTRA FORMA - MAIS DE 8\n",
    "p41 = binom.cdf(10,10,p) - binom.cdf(8,10,p) # Calcula total, menos até 8\n",
    "p41"
   ]
  },
  {
   "cell_type": "markdown",
   "id": "d045db66-5c42-4f94-95b7-1b50dab1ead0",
   "metadata": {},
   "source": [
    "#### Distribuição Geométrica"
   ]
  },
  {
   "cell_type": "code",
   "execution_count": null,
   "id": "6f9e0b43-502a-4a86-bd46-d28e34669bbb",
   "metadata": {},
   "outputs": [],
   "source": [
    "# 2) GEOMÉTRICA: Repetidas tentativas até que o sucesso ocorra\n",
    "# Tentativas independentes\n",
    "# Probabilidade de sucesso é constante para todas as tentativas\n",
    "# \n",
    "# P(x) = p(q)^(x-1) -- Quando sucesso está incluso, descarta-se\n",
    "# ou P(x) = p(q)^x  -- Quando informa qtde. de falhas até o sucesso\n",
    "# Onde:\n",
    "# p = probabilidade de sucesso em uma tentativa\n",
    "# q = probabilidade de fracasso em uma tentativa\n",
    "# x = variável aleatória que representa o nro de falhas até o sucesso\n",
    "#\n",
    "\n",
    "from scipy.stats import geom"
   ]
  },
  {
   "cell_type": "code",
   "execution_count": null,
   "id": "abda309e-7cfe-44d4-adb1-00bebf88ebab",
   "metadata": {},
   "outputs": [],
   "source": [
    "# PROBABILIDADE DE RETIRAR 3 AMOSTRAS E NENHUMA SER MULHER\n",
    "# 4 é o sucesso, serão 3 fracassos e 1 sucesso\n",
    "geom.pmf(4,p)"
   ]
  },
  {
   "cell_type": "markdown",
   "id": "5c923fa0-c6a5-4b74-8712-cc600c2b8562",
   "metadata": {},
   "source": [
    "#### Distribuição de Poisson"
   ]
  },
  {
   "cell_type": "code",
   "execution_count": null,
   "id": "dcf1f2a2-0d1e-46a7-997a-1998249ced8a",
   "metadata": {},
   "outputs": [],
   "source": [
    "# 3) POISSON: Nro de vezes que um evento ocorre num determinado intervalo\n",
    "# (tempo, área ou volume)\n",
    "# Probabilidade do evento ocorrer é a mesma para cada intervalo\n",
    "# Nro de ocorrências nos intervalos são independentes\n",
    "# \n",
    "# P(x) = (m^x * e^-m)/x! \n",
    "# Onde:\n",
    "# m = número médio de ocorrências (frequência)\n",
    "# x = número de ocorrência num dado intervalo\n",
    "#\n",
    "\n",
    "from scipy.stats import poisson"
   ]
  },
  {
   "cell_type": "code",
   "execution_count": null,
   "id": "1c761461-b559-4265-a216-ef2ebd5bb6ec",
   "metadata": {},
   "outputs": [],
   "source": [
    "# Num local de prova, 100 vestibulandos normalmente terminaram a prova\n",
    "# em 2 horas (tempo mínimo).\n",
    "# Probabilidade de exatamente 90 vestibulandos terminarem a prova em 2h.\n",
    "\n",
    "# poisson.pmf(x,m)\n",
    "# - x é a quantidade de ocorrências EM ESTUDO\n",
    "# - m é a taxa de ocorrências\n",
    "poisson.pmf(90,100)"
   ]
  }
 ],
 "metadata": {
  "kernelspec": {
   "display_name": "Python 3 (ipykernel)",
   "language": "python",
   "name": "python3"
  },
  "language_info": {
   "codemirror_mode": {
    "name": "ipython",
    "version": 3
   },
   "file_extension": ".py",
   "mimetype": "text/x-python",
   "name": "python",
   "nbconvert_exporter": "python",
   "pygments_lexer": "ipython3",
   "version": "3.11.7"
  }
 },
 "nbformat": 4,
 "nbformat_minor": 5
}
